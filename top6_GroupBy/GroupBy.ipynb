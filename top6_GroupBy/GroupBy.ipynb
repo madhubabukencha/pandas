{
 "cells": [
  {
   "cell_type": "markdown",
   "id": "b0e47ad2",
   "metadata": {},
   "source": [
    "<center><font size=6 color=\"#00416d\">GroupBy</font></center>"
   ]
  },
  {
   "cell_type": "markdown",
   "id": "2fd61f98",
   "metadata": {},
   "source": [
    "Group DataFrame using a mapper or by a Series of columns.\n",
    "\n",
    "A groupby operation involves some combination of splitting the object, applying a function, and combining the results. This can be used to group large amounts of data and compute operations on these groups.\n",
    "\n",
    "DataFrame.groupby(by=None, axis=0, level=None, as_index=True, sort=True, group_keys=True, squeeze=NoDefault.no_default, observed=False, dropna=True)"
   ]
  },
  {
   "cell_type": "code",
   "execution_count": null,
   "id": "27568875",
   "metadata": {},
   "outputs": [],
   "source": [
    "import pandas as pd"
   ]
  },
  {
   "cell_type": "code",
   "execution_count": null,
   "id": "49151ce3",
   "metadata": {},
   "outputs": [],
   "source": [
    "fortune_comp = pd.read_csv(\"fortune1000.csv\")\n",
    "fortune_comp.set_index('Rank', inplace=True)\n",
    "# Group of dataframes bundles together\n",
    "sector = fortune_comp.groupby('Sector')\n",
    "fortune_comp.sample(6)"
   ]
  },
  {
   "cell_type": "code",
   "execution_count": null,
   "id": "74806227",
   "metadata": {},
   "outputs": [],
   "source": [
    "type(fortune_comp)"
   ]
  },
  {
   "cell_type": "code",
   "execution_count": null,
   "id": "669a4ff0",
   "metadata": {},
   "outputs": [],
   "source": [
    "type(sector)"
   ]
  },
  {
   "cell_type": "code",
   "execution_count": null,
   "id": "a6c0c3d2",
   "metadata": {},
   "outputs": [],
   "source": [
    "# Returns the total number of rows\n",
    "len(fortune_comp)"
   ]
  },
  {
   "cell_type": "code",
   "execution_count": null,
   "id": "091787af",
   "metadata": {},
   "outputs": [],
   "source": [
    "# which is equal to\n",
    "# fortune_comp['Sector'].nunique()\n",
    "len(sector)"
   ]
  },
  {
   "cell_type": "code",
   "execution_count": null,
   "id": "716c221d",
   "metadata": {},
   "outputs": [],
   "source": [
    "# Returns the sector and number of rows associated(total count) with that sector\n",
    "# Which is similar to \n",
    "# fortune_comp[\"Sector\"].value_counts()\n",
    "sector.size()"
   ]
  },
  {
   "cell_type": "code",
   "execution_count": null,
   "id": "3df0ab41",
   "metadata": {},
   "outputs": [],
   "source": [
    "# Returns the first row from each group\n",
    "sector.first()"
   ]
  },
  {
   "cell_type": "code",
   "execution_count": null,
   "id": "362009dc",
   "metadata": {},
   "outputs": [],
   "source": [
    "# Returns the last row from each group\n",
    "sector.last()"
   ]
  },
  {
   "cell_type": "code",
   "execution_count": null,
   "id": "9039c88c",
   "metadata": {
    "scrolled": false
   },
   "outputs": [],
   "source": [
    "# It returns a dictionary with sector as key and row numbers associated with that key\n",
    "sector.groups"
   ]
  },
  {
   "cell_type": "markdown",
   "id": "07bf4f8f",
   "metadata": {},
   "source": [
    "### .get_group() method\n",
    "To get rows associated with perticular group"
   ]
  },
  {
   "cell_type": "code",
   "execution_count": null,
   "id": "7ab98db5",
   "metadata": {},
   "outputs": [],
   "source": [
    "fortune = pd.read_csv(\"fortune1000.csv\", index_col=[\"Rank\"])\n",
    "sectors = fortune.groupby(\"Sector\")\n",
    "fortune.head()"
   ]
  },
  {
   "cell_type": "code",
   "execution_count": null,
   "id": "d996a949",
   "metadata": {},
   "outputs": [],
   "source": [
    "# The get_group() method returns rows associated with perticular group\n",
    "sectors.get_group(\"Energy\")"
   ]
  },
  {
   "cell_type": "code",
   "execution_count": null,
   "id": "27234437",
   "metadata": {},
   "outputs": [],
   "source": [
    "sectors.get_group(\"Technology\")"
   ]
  },
  {
   "cell_type": "markdown",
   "id": "747de891",
   "metadata": {},
   "source": [
    "### Methematical Methods on groupby object"
   ]
  },
  {
   "cell_type": "code",
   "execution_count": null,
   "id": "b07dc33a",
   "metadata": {},
   "outputs": [],
   "source": [
    "fortune = pd.read_csv(\"fortune1000.csv\", index_col=[\"Rank\"])\n",
    "sectors = fortune.groupby(\"Sector\")\n",
    "fortune.head()"
   ]
  },
  {
   "cell_type": "code",
   "execution_count": null,
   "id": "75017272",
   "metadata": {},
   "outputs": [],
   "source": [
    "# By default it will check left most column, there fore in our case it is \"Company\"\n",
    "# In case of strings it will check smallest alphabet\n",
    "sectors.min()"
   ]
  },
  {
   "cell_type": "code",
   "execution_count": null,
   "id": "56532523",
   "metadata": {},
   "outputs": [],
   "source": [
    "sectors.max()"
   ]
  },
  {
   "cell_type": "code",
   "execution_count": null,
   "id": "070900a5",
   "metadata": {},
   "outputs": [],
   "source": [
    "# Some methods only applies on numerical columns of the DataFrame\n",
    "# It will return total sum, and mean of rows in perticular sector\n",
    "sectors.sum()\n",
    "sectors.mean()"
   ]
  },
  {
   "cell_type": "code",
   "execution_count": null,
   "id": "78cce737",
   "metadata": {
    "scrolled": false
   },
   "outputs": [],
   "source": [
    "# We can also apply on perticular column of the sectors\n",
    "sectors['Revenue'].sum()\n",
    "# Returns maximum revenue value\n",
    "sectors['Revenue'].max()\n",
    "# Returns minimum revenue value\n",
    "sectors['Revenue'].min()"
   ]
  },
  {
   "cell_type": "code",
   "execution_count": null,
   "id": "bb78e9e9",
   "metadata": {},
   "outputs": [],
   "source": [
    "# We can also pass multiple columns\n",
    "sectors[['Revenue', 'Profits']].sum()"
   ]
  },
  {
   "cell_type": "markdown",
   "id": "baa90dfc",
   "metadata": {},
   "source": [
    "### To groupby multiple columns"
   ]
  },
  {
   "cell_type": "code",
   "execution_count": null,
   "id": "0076b28b",
   "metadata": {},
   "outputs": [],
   "source": [
    "fortune = pd.read_csv(\"fortune1000.csv\", index_col=[\"Rank\"])\n",
    "sectors = fortune.groupby([\"Sector\", \"Industry\"])\n",
    "fortune.head()"
   ]
  },
  {
   "cell_type": "code",
   "execution_count": null,
   "id": "09fcf010",
   "metadata": {},
   "outputs": [],
   "source": [
    "sectors.size()"
   ]
  },
  {
   "cell_type": "code",
   "execution_count": null,
   "id": "f6765ed4",
   "metadata": {},
   "outputs": [],
   "source": [
    "# Each row equals in the result equals to below like command\n",
    "# fortune[(fortune[\"Sector\"] == \"Business Services\") & (fortune[\"Industry\"] == \"Education\")].sum()\n",
    "sectors.sum()"
   ]
  },
  {
   "cell_type": "code",
   "execution_count": null,
   "id": "628a65d8",
   "metadata": {},
   "outputs": [],
   "source": [
    "sectors.mean()"
   ]
  },
  {
   "cell_type": "code",
   "execution_count": null,
   "id": "58fd4b67",
   "metadata": {},
   "outputs": [],
   "source": [
    "# All companies sum, which are inside perticular Sector and Industry\n",
    "sectors[\"Employees\"].sum().to_frame()"
   ]
  },
  {
   "cell_type": "markdown",
   "id": "760bf56f",
   "metadata": {},
   "source": [
    "### The agg() method"
   ]
  },
  {
   "cell_type": "code",
   "execution_count": null,
   "id": "0698da60",
   "metadata": {},
   "outputs": [],
   "source": [
    "fortune = pd.read_csv(\"fortune1000.csv\", index_col=[\"Rank\"])\n",
    "sectors = fortune.groupby([\"Sector\", \"Industry\"])\n",
    "fortune.head()"
   ]
  },
  {
   "cell_type": "code",
   "execution_count": null,
   "id": "280a5eda",
   "metadata": {},
   "outputs": [],
   "source": [
    "# We can perform specific actions on invidual columns\n",
    "sectors[[\"Revenue\", \"Profits\", \"Employees\"]].agg(['sum', 'mean', 'min'])"
   ]
  },
  {
   "cell_type": "code",
   "execution_count": null,
   "id": "8802f63d",
   "metadata": {},
   "outputs": [],
   "source": [
    "#  we can also pass dictionary to the agg function.\n",
    "sectors.agg({'Revenue': ['sum', 'mean'],\n",
    "             'Profits': 'min',\n",
    "             'Employees': ['mean', 'min']})"
   ]
  },
  {
   "cell_type": "markdown",
   "id": "6ff98584",
   "metadata": {},
   "source": [
    "### Iterating through groups"
   ]
  },
  {
   "cell_type": "code",
   "execution_count": null,
   "id": "5b257f38",
   "metadata": {},
   "outputs": [],
   "source": [
    "fortune = pd.read_csv(\"fortune1000.csv\", index_col=[\"Rank\"])\n",
    "sectors = fortune.groupby([\"Sector\", \"Industry\"])\n",
    "fortune.head()"
   ]
  },
  {
   "cell_type": "code",
   "execution_count": null,
   "id": "f4144a23",
   "metadata": {},
   "outputs": [],
   "source": [
    "# Creating empty DataFrame\n",
    "df = pd.DataFrame(columns = fortune.columns)"
   ]
  },
  {
   "cell_type": "code",
   "execution_count": null,
   "id": "16752701",
   "metadata": {},
   "outputs": [],
   "source": [
    "for sector, data in sectors:\n",
    "    # print(data)\n",
    "    # Highest revenue company in the each sector and industry\n",
    "    highest_revenue = data.nlargest(1, 'Revenue')\n",
    "    df.loc[len(df)] = highest_revenue.values.tolist()[0]"
   ]
  },
  {
   "cell_type": "code",
   "execution_count": null,
   "id": "57dfbdfa",
   "metadata": {},
   "outputs": [],
   "source": [
    "df.columns"
   ]
  },
  {
   "cell_type": "code",
   "execution_count": null,
   "id": "6fc4817c",
   "metadata": {},
   "outputs": [],
   "source": [
    "df"
   ]
  }
 ],
 "metadata": {
  "kernelspec": {
   "display_name": "Python 3 (ipykernel)",
   "language": "python",
   "name": "python3"
  },
  "language_info": {
   "codemirror_mode": {
    "name": "ipython",
    "version": 3
   },
   "file_extension": ".py",
   "mimetype": "text/x-python",
   "name": "python",
   "nbconvert_exporter": "python",
   "pygments_lexer": "ipython3",
   "version": "3.10.2"
  }
 },
 "nbformat": 4,
 "nbformat_minor": 5
}
