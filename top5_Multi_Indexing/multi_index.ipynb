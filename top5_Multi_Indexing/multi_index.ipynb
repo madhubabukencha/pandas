{
 "cells": [
  {
   "cell_type": "markdown",
   "id": "fcf88d23",
   "metadata": {},
   "source": [
    "<center><font size=6 color=\"#00416d\">Multi Index</font></center>"
   ]
  },
  {
   "cell_type": "code",
   "execution_count": null,
   "id": "fe911b1d",
   "metadata": {},
   "outputs": [],
   "source": [
    "import pandas as pd"
   ]
  },
  {
   "cell_type": "markdown",
   "id": "0932d07b",
   "metadata": {},
   "source": [
    "### Performing initial data processing"
   ]
  },
  {
   "cell_type": "code",
   "execution_count": null,
   "id": "126f7f81",
   "metadata": {},
   "outputs": [],
   "source": [
    "bigmac = pd.read_csv(\"bigmac.csv\", parse_dates=[\"Date\"])\n",
    "bigmac.head()"
   ]
  },
  {
   "cell_type": "code",
   "execution_count": null,
   "id": "59de3f1a",
   "metadata": {},
   "outputs": [],
   "source": [
    "# Data Type of each column\n",
    "bigmac.dtypes"
   ]
  },
  {
   "cell_type": "code",
   "execution_count": null,
   "id": "cf4edb4b",
   "metadata": {},
   "outputs": [],
   "source": [
    "# Basic info about dataframe\n",
    "bigmac.info()"
   ]
  },
  {
   "cell_type": "code",
   "execution_count": null,
   "id": "f04f3374",
   "metadata": {},
   "outputs": [],
   "source": [
    "bigmac['Country'] = bigmac['Country'].astype('category')"
   ]
  },
  {
   "cell_type": "code",
   "execution_count": null,
   "id": "cf70da67",
   "metadata": {},
   "outputs": [],
   "source": [
    "bigmac.info()"
   ]
  },
  {
   "cell_type": "markdown",
   "id": "31967701",
   "metadata": {},
   "source": [
    "### Creating multi index on DataFrame"
   ]
  },
  {
   "cell_type": "code",
   "execution_count": null,
   "id": "386fc88c",
   "metadata": {},
   "outputs": [],
   "source": [
    "bigmac = pd.read_csv(\"bigmac.csv\", parse_dates=['Date'], dtype={'Country':'category'})\n",
    "bigmac.head()"
   ]
  },
  {
   "cell_type": "code",
   "execution_count": null,
   "id": "a6f158b3",
   "metadata": {},
   "outputs": [],
   "source": [
    "bigmac.nunique()"
   ]
  },
  {
   "cell_type": "code",
   "execution_count": null,
   "id": "5eff2967",
   "metadata": {},
   "outputs": [],
   "source": [
    "# Setting multi index using set_index method\n",
    "# It is good practice to have least number of unique values column in the outer most loop.\n",
    "# In our case Date has least number of unique values\n",
    "# We can set multiple index's like this\n",
    "bigmac.set_index(['Date', 'Country'], inplace=True)"
   ]
  },
  {
   "cell_type": "code",
   "execution_count": null,
   "id": "5545292f",
   "metadata": {},
   "outputs": [],
   "source": [
    "# Sorting index\n",
    "# First it will sort the 'Date' index and then 'Country' index\n",
    "bigmac.sort_index()"
   ]
  },
  {
   "cell_type": "code",
   "execution_count": null,
   "id": "93780c89",
   "metadata": {},
   "outputs": [],
   "source": [
    "# It list of tuples as index's\n",
    "bigmac.index[[0, 1]]"
   ]
  },
  {
   "cell_type": "code",
   "execution_count": null,
   "id": "20144176",
   "metadata": {},
   "outputs": [],
   "source": [
    "type(bigmac.index)"
   ]
  },
  {
   "cell_type": "markdown",
   "id": "2fe7e538",
   "metadata": {},
   "source": [
    "### df.index.get_level_values()\n",
    "\n",
    "To get index column values"
   ]
  },
  {
   "cell_type": "code",
   "execution_count": null,
   "id": "556a70c4",
   "metadata": {},
   "outputs": [],
   "source": [
    "bigmac = pd.read_csv(\"bigmac.csv\", parse_dates=['Date'], dtype={'Country':'category'}, index_col=['Date', 'Country'])\n",
    "bigmac.head()"
   ]
  },
  {
   "cell_type": "code",
   "execution_count": null,
   "id": "9888052e",
   "metadata": {},
   "outputs": [],
   "source": [
    "bigmac.index.get_level_values('Date')\n",
    "bigmac.index.get_level_values(0)"
   ]
  },
  {
   "cell_type": "code",
   "execution_count": null,
   "id": "d3310be1",
   "metadata": {},
   "outputs": [],
   "source": [
    "bigmac.index.get_level_values('Country')\n",
    "bigmac.index.get_level_values(1)"
   ]
  },
  {
   "cell_type": "markdown",
   "id": "a59f01ea",
   "metadata": {},
   "source": [
    "### df.set_name()\n",
    "To change name of the index"
   ]
  },
  {
   "cell_type": "code",
   "execution_count": null,
   "id": "0a73783a",
   "metadata": {},
   "outputs": [],
   "source": [
    "bigmac = pd.read_csv(\"bigmac.csv\", parse_dates=['Date'], dtype={'Country':'category'}, index_col=['Date', 'Country'])\n",
    "bigmac.head()"
   ]
  },
  {
   "cell_type": "code",
   "execution_count": null,
   "id": "233507a9",
   "metadata": {},
   "outputs": [],
   "source": [
    "# Changing index names\n",
    "bigmac.index.set_names(['Day', 'Location'], inplace=True)\n",
    "bigmac.head()"
   ]
  },
  {
   "cell_type": "code",
   "execution_count": null,
   "id": "77f6081e",
   "metadata": {},
   "outputs": [],
   "source": [
    "# if want to change specific index name,\n",
    "bigmac.index.set_names('Country', level=1)\n",
    "# which is simlar to\n",
    "bigmac.index.set_names('Country', level=\"Location\")"
   ]
  },
  {
   "cell_type": "markdown",
   "id": "53d95c84",
   "metadata": {},
   "source": [
    "### sort_index() method on MultiIndex DataFrame"
   ]
  },
  {
   "cell_type": "code",
   "execution_count": null,
   "id": "bcc270ee",
   "metadata": {},
   "outputs": [],
   "source": [
    "df = pd.read_csv(\"bigmac.csv\", parse_dates=['Date'])\n",
    "df.set_index(['Date', 'Country'], inplace=True)\n",
    "df"
   ]
  },
  {
   "cell_type": "code",
   "execution_count": null,
   "id": "5667a9a8",
   "metadata": {},
   "outputs": [],
   "source": [
    "# If we want to sort all index then\n",
    "df.sort_index()\n",
    "# To sort in decending order\n",
    "df.sort_index(ascending=True)"
   ]
  },
  {
   "cell_type": "code",
   "execution_count": null,
   "id": "a6bd5e1c",
   "metadata": {},
   "outputs": [],
   "source": [
    "# To target individual column separately\n",
    "df.sort_index(ascending=[True, False])"
   ]
  },
  {
   "cell_type": "code",
   "execution_count": null,
   "id": "d97269da",
   "metadata": {},
   "outputs": [],
   "source": [
    "# To taget once level at once\n",
    "df.sort_index(level=0)"
   ]
  },
  {
   "cell_type": "code",
   "execution_count": null,
   "id": "abbcf475",
   "metadata": {},
   "outputs": [],
   "source": [
    "df.sort_index(level=1, ascending=0)"
   ]
  },
  {
   "cell_type": "markdown",
   "id": "08951fdd",
   "metadata": {},
   "source": [
    "### Extracting in multi index DataFrame\n",
    "\n",
    "we can use loc and iloc methods to extract data <br>\n",
    "<b>NOTE:</b> <br>\n",
    "Make sure you data sorted before or you will get below error <br>\n",
    "UnsortedIndexError: 'MultiIndex slicing requires the index to be lexsorted: slicing on levels [0], lexsort depth 0'"
   ]
  },
  {
   "cell_type": "code",
   "execution_count": null,
   "id": "71044a50",
   "metadata": {},
   "outputs": [],
   "source": [
    "bigmac = pd.read_csv(\"bigmac.csv\", parse_dates=['Date'], index_col=['Date', 'Country']).sort_index()\n",
    "bigmac.head()"
   ]
  },
  {
   "cell_type": "code",
   "execution_count": null,
   "id": "75819390",
   "metadata": {},
   "outputs": [],
   "source": [
    "bigmac.loc[\"2016-01-01\", \"Argentina\"]"
   ]
  },
  {
   "cell_type": "code",
   "execution_count": null,
   "id": "94fbc0f2",
   "metadata": {
    "scrolled": true
   },
   "outputs": [],
   "source": [
    "# The problem with above approch is we usaully pass column as second argument like below\n",
    "bigmac.loc[\"2016-01-01\", \"Price in US Dollars\"]"
   ]
  },
  {
   "cell_type": "code",
   "execution_count": null,
   "id": "e08ace03",
   "metadata": {},
   "outputs": [],
   "source": [
    "# To deal with it you pass multiple index in tuple\n",
    "bigmac.loc[(\"2016-01-01\", \"Argentina\"), [\"Price in US Dollars\", \"Price in US Dollars\"]]"
   ]
  },
  {
   "cell_type": "code",
   "execution_count": null,
   "id": "52009424",
   "metadata": {},
   "outputs": [],
   "source": [
    "bigmac.iloc[1:4,]"
   ]
  },
  {
   "cell_type": "markdown",
   "id": "3da947e2",
   "metadata": {},
   "source": [
    "### .transpose()\n",
    "Interchanges the column and rows"
   ]
  },
  {
   "cell_type": "code",
   "execution_count": null,
   "id": "23e5cf0a",
   "metadata": {},
   "outputs": [],
   "source": [
    "df = pd.read_csv(\"bigmac.csv\", parse_dates=['Date'], index_col=['Date', 'Country']).sort_index()\n",
    "df.head()"
   ]
  },
  {
   "cell_type": "code",
   "execution_count": null,
   "id": "b5b09eb9",
   "metadata": {},
   "outputs": [],
   "source": [
    "df = df.transpose()\n",
    "df"
   ]
  },
  {
   "cell_type": "code",
   "execution_count": null,
   "id": "a97165d9",
   "metadata": {},
   "outputs": [],
   "source": [
    "# Accessing column\n",
    "df[\"2016-01-01\"]\n",
    "df[(\"2016-01-01\", \"Australia\")]"
   ]
  },
  {
   "cell_type": "code",
   "execution_count": null,
   "id": "28f8b130",
   "metadata": {},
   "outputs": [],
   "source": [
    "# Accessing rows with some perticular column\n",
    "df.loc[\"Price in US Dollars\", \"2016-01-01\"]"
   ]
  },
  {
   "cell_type": "code",
   "execution_count": null,
   "id": "3d63e67b",
   "metadata": {},
   "outputs": [],
   "source": [
    "df.loc[\"Price in US Dollars\", \"2010-01-01\":\"2016-01-01\"]"
   ]
  },
  {
   "cell_type": "code",
   "execution_count": null,
   "id": "50bdf3a9",
   "metadata": {},
   "outputs": [],
   "source": [
    "df.loc[\"Price in US Dollars\", (\"2010-01-01\", \"Brazil\"):(\"2010-01-01\", \"Canada\")]"
   ]
  },
  {
   "cell_type": "markdown",
   "id": "d780938f",
   "metadata": {},
   "source": [
    "### .swaplevel() method\n",
    "It is used to swap the level of index's"
   ]
  },
  {
   "cell_type": "code",
   "execution_count": null,
   "id": "deea62e9",
   "metadata": {},
   "outputs": [],
   "source": [
    "df = pd.read_csv(\"bigmac.csv\", parse_dates=['Date'])\n",
    "df.set_index(['Date', 'Country', \"Price in US Dollars\"], inplace=True, drop=False)\n",
    "df.head()"
   ]
  },
  {
   "cell_type": "code",
   "execution_count": null,
   "id": "99e47de2",
   "metadata": {},
   "outputs": [],
   "source": [
    "df.swaplevel(\"Price in US Dollars\", \"Date\")"
   ]
  },
  {
   "cell_type": "markdown",
   "id": "d3fa6ca0",
   "metadata": {},
   "source": [
    "### .stack() method\n",
    "<strong>Documentation:</strong><a href=\"https://pandas.pydata.org/docs/reference/api/pandas.DataFrame.stack.html\">df.stack()</a>\n",
    "<p><strong>Defination:</strong>Stack the prescribed level(s) from columns to index.</p>"
   ]
  },
  {
   "cell_type": "code",
   "execution_count": null,
   "id": "18759e57",
   "metadata": {},
   "outputs": [],
   "source": [
    "world_stats = pd.read_csv(\"worldstats.csv\", index_col=[\"country\", \"year\"])\n",
    "world_stats.head()"
   ]
  },
  {
   "cell_type": "code",
   "execution_count": null,
   "id": "6cd56fee",
   "metadata": {},
   "outputs": [],
   "source": [
    "world_stats.stack()"
   ]
  },
  {
   "cell_type": "code",
   "execution_count": null,
   "id": "ee4d7d45",
   "metadata": {},
   "outputs": [],
   "source": [
    "world_stats.stack().to_frame()"
   ]
  },
  {
   "cell_type": "markdown",
   "id": "0aead594",
   "metadata": {},
   "source": [
    "### .unstack() method\n",
    "It is just opposite to stack() method"
   ]
  },
  {
   "cell_type": "code",
   "execution_count": null,
   "id": "06e927f9",
   "metadata": {},
   "outputs": [],
   "source": [
    "world_stats = pd.read_csv(\"worldstats.csv\", index_col=[\"country\", \"year\"])\n",
    "world_stats.head()"
   ]
  },
  {
   "cell_type": "code",
   "execution_count": null,
   "id": "ed60252b",
   "metadata": {},
   "outputs": [],
   "source": [
    "s = world_stats.stack().to_frame()\n",
    "s.head(3)"
   ]
  },
  {
   "cell_type": "code",
   "execution_count": null,
   "id": "18c961b4",
   "metadata": {},
   "outputs": [],
   "source": [
    "# Makes inner most index as column name\n",
    "s.unstack()"
   ]
  },
  {
   "cell_type": "code",
   "execution_count": null,
   "id": "a33ba514",
   "metadata": {},
   "outputs": [],
   "source": [
    "# Since unstack returns DF, we can again also call unstack method\n",
    "s.unstack().unstack()"
   ]
  },
  {
   "cell_type": "code",
   "execution_count": null,
   "id": "12571b4f",
   "metadata": {},
   "outputs": [],
   "source": [
    "# If we want specific index get unstacked, we can do like below\n",
    "# s.unstack(\"<column_name>/posion_number\")\n",
    "s.unstack(\"year\")\n",
    "# above statement equals to\n",
    "s.unstack(1)\n",
    "# or\n",
    "s.unstack(-2)"
   ]
  },
  {
   "cell_type": "code",
   "execution_count": null,
   "id": "e09ac248",
   "metadata": {},
   "outputs": [],
   "source": [
    "# if we want multiple index to get unstack\n",
    "s.unstack([\"country\", \"year\"])"
   ]
  },
  {
   "cell_type": "code",
   "execution_count": null,
   "id": "e36d2b38",
   "metadata": {},
   "outputs": [],
   "source": [
    "# Let's say, if we have any NaN values we can fill them using fill_value parameter\n",
    "s.unstack(\"year\", fill_value=0)"
   ]
  },
  {
   "cell_type": "markdown",
   "id": "858dedea",
   "metadata": {},
   "source": [
    "###  .pivot() method\n",
    "Return reshaped DataFrame organized by given index / column values."
   ]
  },
  {
   "cell_type": "code",
   "execution_count": null,
   "id": "c15bcfb8",
   "metadata": {},
   "outputs": [],
   "source": [
    "sales_men = pd.read_csv(\"salesmen.csv\", parse_dates = ['Date'], dtype={'Salesman': 'category'})\n",
    "sales_men.head()"
   ]
  },
  {
   "cell_type": "code",
   "execution_count": null,
   "id": "90f6d95f",
   "metadata": {},
   "outputs": [],
   "source": [
    "sales_men.info()"
   ]
  },
  {
   "cell_type": "code",
   "execution_count": null,
   "id": "fddc87f2",
   "metadata": {},
   "outputs": [],
   "source": [
    "sales_men.pivot(index=\"Date\", columns=\"Salesman\", values=\"Revenue\")"
   ]
  },
  {
   "cell_type": "markdown",
   "id": "0d0e1581",
   "metadata": {},
   "source": [
    "### .pivot_table()\n",
    "\n",
    "<strong>Syntax:</strong>df.pivot_table(values=None, index=None, columns=None, aggfunc='mean', fill_value=None, margins=False, dropna=True, margins_name='All', observed=False, sort=True) <br>\n",
    "<strong>Definition:</strong>Create a spreadsheet-style pivot table as a DataFrame.\n",
    "The levels in the pivot table will be stored in MultiIndex objects (hierarchical indexes) on the index and columns of the result DataFrame."
   ]
  },
  {
   "cell_type": "code",
   "execution_count": null,
   "id": "e3f2f20c",
   "metadata": {},
   "outputs": [],
   "source": [
    "foods = pd.read_csv(\"foods.csv\")\n",
    "foods.head()"
   ]
  },
  {
   "cell_type": "code",
   "execution_count": null,
   "id": "da46eb99",
   "metadata": {},
   "outputs": [],
   "source": [
    "# Find mean value of how much Female and Male are spending\n",
    "foods.pivot_table(values=\"Spend\", index=\"Gender\")"
   ]
  },
  {
   "cell_type": "code",
   "execution_count": null,
   "id": "04e27c6a",
   "metadata": {},
   "outputs": [],
   "source": [
    "# Finding sum of amount both Female and Male spent on Items\n",
    "foods.pivot_table(values=\"Spend\", index=[\"Gender\", \"Item\"], aggfunc=\"sum\")"
   ]
  },
  {
   "cell_type": "code",
   "execution_count": null,
   "id": "117efd7b",
   "metadata": {},
   "outputs": [],
   "source": [
    "# Finding sum of amount both Female and Male spent on Items on each city\n",
    "foods.pivot_table(values=\"Spend\", index=[\"Gender\", \"Item\"], columns=\"City\", aggfunc=\"sum\")"
   ]
  },
  {
   "cell_type": "code",
   "execution_count": null,
   "id": "d3ac2d90",
   "metadata": {},
   "outputs": [],
   "source": [
    "# Finding sum of amount both Female and Male spent on Items on each city on weekly and Monthly\n",
    "foods.pivot_table(values=\"Spend\", index=[\"Gender\", \"Item\"], columns=[\"Frequency\", \"City\"], aggfunc=\"sum\")[[\"Weekly\",\"Monthly\"]]"
   ]
  },
  {
   "cell_type": "markdown",
   "id": "5dd8b454",
   "metadata": {},
   "source": [
    "#### Commonly passed values to the aggfunc parameter\n",
    "count, max, min, avg etc..m"
   ]
  },
  {
   "cell_type": "markdown",
   "id": "614061c7",
   "metadata": {},
   "source": [
    "### pd.melt()"
   ]
  },
  {
   "cell_type": "code",
   "execution_count": null,
   "id": "694a0e48",
   "metadata": {},
   "outputs": [],
   "source": [
    "sales = pd.read_csv(\"quarters.csv\")\n",
    "sales.head()"
   ]
  },
  {
   "cell_type": "code",
   "execution_count": null,
   "id": "fb04a13d",
   "metadata": {},
   "outputs": [],
   "source": [
    "pd.melt(sales, id_vars=\"Salesman\", var_name=\"Quater\", value_name=\"Revenue\")"
   ]
  },
  {
   "cell_type": "code",
   "execution_count": null,
   "id": "72a5ea76",
   "metadata": {},
   "outputs": [],
   "source": [
    "pd.melt(sales, id_vars=\"Salesman\", value_vars=['Q1', 'Q2'], var_name=\"Quater\", value_name=\"Revenue\")"
   ]
  },
  {
   "cell_type": "markdown",
   "id": "3db6a3d6",
   "metadata": {},
   "source": [
    "### Synopsis"
   ]
  },
  {
   "cell_type": "markdown",
   "id": "2d2f65bb",
   "metadata": {},
   "source": [
    "<table style=\"margin-left: 0;\">\n",
    "  <tr style=\"text-align:center;\">\n",
    "    <th>Implementation</th>\n",
    "    <th>Description</th>\n",
    "  </tr>\n",
    "  <tr>\n",
    "      <td>DataFrame.set_index([\"column1\", \"column2\",..,]) or <br>\n",
    "          pd.read_csv(index_cols=[\"column1\", \"column2\", ..])</td>\n",
    "      <td>To create multi index DataFrame</td>\n",
    "  </tr>\n",
    "  <tr>\n",
    "      <td>df.index.get_level_value(\"index_column_name\")</td>\n",
    "      <td>We get list of all index values</td>\n",
    "  </tr>\n",
    "  <tr>\n",
    "      <td>df.index.set_names('new_index_col_name', level=\"old_index_col_name\")</td>\n",
    "      <td>To change the name of index column</td>\n",
    "  </tr>\n",
    "  <tr>\n",
    "      <td>df.sort_index(level=value, ascending=[boolean, boolean])</td>\n",
    "      <td>If you don't pass any parameter then it will sort the all level index's, if you want to sort specific level then pass value to the level parameter</td>\n",
    "  </tr>\n",
    "  <tr>\n",
    "      <td>df.loc[] and df.iloc[]</td>\n",
    "      <td>are used to extract data from multi index table</td>\n",
    "  </tr>\n",
    "  <tr>\n",
    "      <td>df.swaplevel(\"Column1\", \"Column2\")</td>\n",
    "      <td>Swaps the positions of column1 and column2</td>\n",
    "  </tr>\n",
    "  <tr>\n",
    "      <td>df.stack()</td>\n",
    "      <td>Stack bring the columns in rows(refer example)</td>\n",
    "  </tr>\n",
    "  <tr>\n",
    "      <td>df.unstack()</td>\n",
    "      <td>It convert row names as columns(refer example)</td>\n",
    "  </tr>\n",
    "  <tr>\n",
    "      <td>df.pivot() and df.pivot_table()</td>\n",
    "      <td>Check example for better understanding</td>\n",
    "  </tr>\n",
    "  <tr>\n",
    "      <td>df.melt()</td>\n",
    "      <td>Converts columns in to a row</td>\n",
    "  </tr>\n",
    "</table>"
   ]
  },
  {
   "cell_type": "code",
   "execution_count": null,
   "id": "c3f62fe8",
   "metadata": {},
   "outputs": [],
   "source": []
  }
 ],
 "metadata": {
  "kernelspec": {
   "display_name": "Python 3",
   "language": "python",
   "name": "python3"
  },
  "language_info": {
   "codemirror_mode": {
    "name": "ipython",
    "version": 3
   },
   "file_extension": ".py",
   "mimetype": "text/x-python",
   "name": "python",
   "nbconvert_exporter": "python",
   "pygments_lexer": "ipython3",
   "version": "3.9.5"
  }
 },
 "nbformat": 4,
 "nbformat_minor": 5
}
