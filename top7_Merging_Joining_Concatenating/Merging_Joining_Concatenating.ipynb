{
 "cells": [
  {
   "cell_type": "markdown",
   "id": "c895db65",
   "metadata": {},
   "source": [
    "<center><font size=6 color=\"#00416d\">Merging Joining Concatenating</font></center>"
   ]
  },
  {
   "cell_type": "code",
   "execution_count": null,
   "id": "1877322b",
   "metadata": {},
   "outputs": [],
   "source": [
    "import pandas as pd"
   ]
  },
  {
   "cell_type": "markdown",
   "id": "cac32c4e",
   "metadata": {},
   "source": [
    "## Importing datasets"
   ]
  },
  {
   "cell_type": "code",
   "execution_count": null,
   "id": "b8e0406b",
   "metadata": {},
   "outputs": [],
   "source": [
    "week1 = pd.read_csv(\"Restaurant - Week 1 Sales.csv\")\n",
    "week1.head(5)"
   ]
  },
  {
   "cell_type": "code",
   "execution_count": null,
   "id": "d65571b5",
   "metadata": {},
   "outputs": [],
   "source": [
    "week2 = pd.read_csv(\"Restaurant - Week 2 Sales.csv\")\n",
    "week2.head(5)"
   ]
  },
  {
   "cell_type": "code",
   "execution_count": null,
   "id": "c7f939f6",
   "metadata": {},
   "outputs": [],
   "source": [
    "customers = pd.read_csv(\"Restaurant - Customers.csv\")\n",
    "customers.head(5)"
   ]
  },
  {
   "cell_type": "code",
   "execution_count": null,
   "id": "9001cffc",
   "metadata": {},
   "outputs": [],
   "source": [
    "foods = pd.read_csv(\"Restaurant - Foods.csv\")\n",
    "foods.head(5)"
   ]
  },
  {
   "cell_type": "markdown",
   "id": "7d37c3f0",
   "metadata": {},
   "source": [
    "## pd.concat()\n",
    "Documentation: <a href=\"https://pandas.pydata.org/docs/reference/api/pandas.concat.html\"> pandas.concat </a> <br>\n",
    "Defination: Concatenate pandas objects along a particular axis with optional set logic along the other axes."
   ]
  },
  {
   "cell_type": "code",
   "execution_count": null,
   "id": "39ea19e0",
   "metadata": {},
   "outputs": [],
   "source": [
    "pd.concat(objs=[week1, week2], # Objects to concate\n",
    "          ignore_index=True, # It will reset the index\n",
    "         )"
   ]
  },
  {
   "cell_type": "code",
   "execution_count": null,
   "id": "55d2bb7c",
   "metadata": {},
   "outputs": [],
   "source": [
    "# Other way to achieve same thing\n",
    "week1.append(week2, ignore_index=True)"
   ]
  },
  {
   "cell_type": "code",
   "execution_count": null,
   "id": "7c7b5819",
   "metadata": {},
   "outputs": [],
   "source": [
    "# Sometimes index plays a vital role, to generate a meaningful index we can do like below\n",
    "data = pd.concat(objs=[week1, week2], # Objects to concate\n",
    "          keys = [\"week 1\", \"week 2\"], # Creating multi index\n",
    "         )\n",
    "data"
   ]
  },
  {
   "cell_type": "code",
   "execution_count": null,
   "id": "45f5ea8c",
   "metadata": {},
   "outputs": [],
   "source": [
    "# Accessing data\n",
    "data.loc[(\"week 2\",)]\n",
    "data.loc[(\"week 2\", [247, 248]),]\n",
    "data.loc[(\"week 2\", [247, 248]), \"Customer ID\"]"
   ]
  },
  {
   "cell_type": "markdown",
   "id": "26e8de94",
   "metadata": {},
   "source": [
    "## df.merging()"
   ]
  },
  {
   "cell_type": "markdown",
   "id": "d3441beb",
   "metadata": {},
   "source": [
    "<strong>Task:</strong><br>\n",
    "Find the customers who visited restaurent in week-1 and week-2"
   ]
  },
  {
   "cell_type": "markdown",
   "id": "ab6a2f8a",
   "metadata": {},
   "source": [
    "<strong>Solution:</strong><br>\n",
    "We are going to fetch those rows by performing inner join <br>\n",
    "<img src=\"inner-join.jpg\" alt=\"inner-join\" style=\"width:200px;\"/>"
   ]
  },
  {
   "cell_type": "code",
   "execution_count": null,
   "id": "3d176145",
   "metadata": {},
   "outputs": [],
   "source": [
    "week1.merge(week2,\n",
    "            how=\"inner\", \n",
    "            on=\"Customer ID\", # This only works when we have common column name\n",
    "            suffixes = ['-week1', '-week2'] # By default it has _x and _y\n",
    "           )"
   ]
  },
  {
   "cell_type": "code",
   "execution_count": null,
   "id": "c60b16eb",
   "metadata": {},
   "outputs": [],
   "source": [
    "# To fetch customer who came in first week and came in second week and order same food item\n",
    "week1.merge(week2,\n",
    "            how = \"inner\",\n",
    "            on = [\"Customer ID\", \"Food ID\"], # So customer ID and Food ID should be common in both columns\n",
    "           )"
   ]
  },
  {
   "cell_type": "markdown",
   "id": "471504af",
   "metadata": {},
   "source": [
    "### outer join()"
   ]
  },
  {
   "cell_type": "markdown",
   "id": "5b812ae5",
   "metadata": {},
   "source": [
    "Outer join fetches all customer who visited the restraurent in week1, week2 and both"
   ]
  },
  {
   "cell_type": "markdown",
   "id": "c83eb016",
   "metadata": {},
   "source": [
    "<img src=\"outer_join.png\" alt=\"outer_join\" style=\"width:400px;\"/>"
   ]
  },
  {
   "cell_type": "code",
   "execution_count": null,
   "id": "3422a6f0",
   "metadata": {},
   "outputs": [],
   "source": [
    "week1 = pd.read_csv(\"Restaurant - Week 1 Sales.csv\")\n",
    "week2 = pd.read_csv(\"Restaurant - Week 2 Sales.csv\")"
   ]
  },
  {
   "cell_type": "code",
   "execution_count": null,
   "id": "b009d304",
   "metadata": {},
   "outputs": [],
   "source": [
    "week1.head(2)"
   ]
  },
  {
   "cell_type": "code",
   "execution_count": null,
   "id": "e8f1d1aa",
   "metadata": {},
   "outputs": [],
   "source": [
    "week2.head(2)"
   ]
  },
  {
   "cell_type": "code",
   "execution_count": null,
   "id": "e48d6e1f",
   "metadata": {},
   "outputs": [],
   "source": [
    "data = week1.merge(week2,\n",
    "            how=\"outer\",\n",
    "            on=\"Customer ID\", \n",
    "            indicator=True, # Tell us from which join data was fetched\n",
    "           )\n",
    "data.head()"
   ]
  },
  {
   "cell_type": "code",
   "execution_count": null,
   "id": "deb82399",
   "metadata": {},
   "outputs": [],
   "source": [
    "#To fetch unique customers in from 2 weeks\n",
    "mask = data[\"_merge\"].isin([\"left_only\", \"right_only\"])\n",
    "data[mask]"
   ]
  },
  {
   "cell_type": "markdown",
   "id": "8047ad93",
   "metadata": {},
   "source": [
    "## Left Join"
   ]
  },
  {
   "cell_type": "markdown",
   "id": "6c2eb073",
   "metadata": {},
   "source": [
    "The LEFT JOIN keyword returns all records from the left table (table1), and the matching records from the right table (table2). The result is 0 records from the right side, if there is no match"
   ]
  },
  {
   "cell_type": "markdown",
   "id": "24c72ad3",
   "metadata": {},
   "source": [
    "<img src=\"LEFT-JOIN.png\" alt=\"LEFT-JOIN.pngEFT-JOIN\" style=\"width:400px;\"/>"
   ]
  },
  {
   "cell_type": "markdown",
   "id": "7d89ea84",
   "metadata": {},
   "source": [
    "Goal: To fetch all food items related info for \"FOOD ID\" column in week1 data frame"
   ]
  },
  {
   "cell_type": "code",
   "execution_count": null,
   "id": "42fa2794",
   "metadata": {},
   "outputs": [],
   "source": [
    "week1 = pd.DataFrame({\"Customer ID\": [1, 2, 3, 4, 5, 6], \"Food ID\": [22, 23, 24, 25, 43, 34]})\n",
    "foods = pd.DataFrame({\"Customer ID\": [1, 2, 10, 23, 2], \"Food ID\": [22, 23, 24, 25, 43], \"Sex\":[\"M\", \"M\", \"F\", \"M\", \"F\"]})"
   ]
  },
  {
   "cell_type": "code",
   "execution_count": null,
   "id": "04b829d1",
   "metadata": {},
   "outputs": [],
   "source": [
    "week1.head()"
   ]
  },
  {
   "cell_type": "code",
   "execution_count": null,
   "id": "01f09fd8",
   "metadata": {},
   "outputs": [],
   "source": [
    "foods.head()"
   ]
  },
  {
   "cell_type": "code",
   "execution_count": null,
   "id": "335d6f26",
   "metadata": {},
   "outputs": [],
   "source": [
    "week1.merge(foods, how=\"left\", on=\"Food ID\", sort=True, indicator=True)"
   ]
  },
  {
   "cell_type": "markdown",
   "id": "b12f1f85",
   "metadata": {},
   "source": [
    "### Perform left join when we have different columns"
   ]
  },
  {
   "cell_type": "code",
   "execution_count": null,
   "id": "f440ba70",
   "metadata": {},
   "outputs": [],
   "source": [
    "week1 = pd.read_csv(\"Restaurant - Week 1 Sales.csv\")\n",
    "week1.head()"
   ]
  },
  {
   "cell_type": "code",
   "execution_count": null,
   "id": "99cdd3ba",
   "metadata": {},
   "outputs": [],
   "source": [
    "customers = pd.read_csv(\"Restaurant - Customers.csv\")\n",
    "customers.head(5)"
   ]
  },
  {
   "cell_type": "markdown",
   "id": "c494ef77",
   "metadata": {},
   "source": [
    "In above 2 data frames ID and Customer ID are same. We have to join based on that"
   ]
  },
  {
   "cell_type": "code",
   "execution_count": null,
   "id": "869896ea",
   "metadata": {},
   "outputs": [],
   "source": [
    "week1.merge(customers, how=\"left\",\n",
    "            left_on = \"Customer ID\", # We are saying use Customer ID from week1 dataframe for left merge\n",
    "            right_on = \"ID\", # We are saying use ID from customers dataframe for left merge\n",
    "            sort = True,).drop(\"ID\", axis=1)"
   ]
  },
  {
   "cell_type": "markdown",
   "id": "88a51651",
   "metadata": {},
   "source": [
    "### merging data frames based on the index\n",
    "\n",
    "In this example we will merge week1, customers and foods table"
   ]
  },
  {
   "cell_type": "code",
   "execution_count": null,
   "id": "e8fff014",
   "metadata": {},
   "outputs": [],
   "source": [
    "week1 = pd.read_csv(\"Restaurant - Week 1 Sales.csv\")\n",
    "week2 = pd.read_csv(\"Restaurant - Week 2 Sales.csv\")\n",
    "customers = pd.read_csv(\"Restaurant - Customers.csv\", index_col=\"ID\")\n",
    "foods = pd.read_csv(\"Restaurant - Foods.csv\", index_col=\"Food ID\")"
   ]
  },
  {
   "cell_type": "code",
   "execution_count": null,
   "id": "b381b52b",
   "metadata": {},
   "outputs": [],
   "source": [
    "customers.head()"
   ]
  },
  {
   "cell_type": "code",
   "execution_count": null,
   "id": "7dab6937",
   "metadata": {},
   "outputs": [],
   "source": [
    "foods.head()"
   ]
  },
  {
   "cell_type": "code",
   "execution_count": null,
   "id": "5efe214d",
   "metadata": {},
   "outputs": [],
   "source": [
    "# Merging customers, foods, week1\n",
    "sales = week1.merge(customers, how=\"left\", left_on=\"Customer ID\", right_index=True)\n",
    "sales.merge(foods, how=\"left\", left_on=\"Food ID\", right_index=True)"
   ]
  },
  {
   "cell_type": "code",
   "execution_count": null,
   "id": "a478f98d",
   "metadata": {},
   "outputs": [],
   "source": [
    "# Example 2\n",
    "week1.merge(week2, how=\"left\", left_index=True, right_index=True, suffixes=[\"-week1\", \"-week2\"])"
   ]
  },
  {
   "cell_type": "markdown",
   "id": "06b3b9c8",
   "metadata": {},
   "source": [
    "### .join() method"
   ]
  },
  {
   "cell_type": "code",
   "execution_count": null,
   "id": "a4ebb6cb",
   "metadata": {},
   "outputs": [],
   "source": [
    "week1 = pd.read_csv(\"Restaurant - Week 1 Sales.csv\")\n",
    "satisfaction = pd.read_csv(\"Restaurant - Week 1 Satisfaction.csv\")"
   ]
  },
  {
   "cell_type": "code",
   "execution_count": null,
   "id": "b7d06806",
   "metadata": {},
   "outputs": [],
   "source": [
    "week1.head()"
   ]
  },
  {
   "cell_type": "code",
   "execution_count": null,
   "id": "a3695016",
   "metadata": {},
   "outputs": [],
   "source": [
    "satisfaction.head()"
   ]
  },
  {
   "cell_type": "code",
   "execution_count": null,
   "id": "dda60e85",
   "metadata": {},
   "outputs": [],
   "source": [
    "# Based on the index it will merge the 2 data frames\n",
    "week1.join(satisfaction)"
   ]
  },
  {
   "cell_type": "code",
   "execution_count": null,
   "id": "0b218774",
   "metadata": {},
   "outputs": [],
   "source": [
    "# which is equal to,\n",
    "week1.merge(satisfaction, how=\"left\", left_index=True, right_index=True)"
   ]
  },
  {
   "cell_type": "markdown",
   "id": "c1abe89a",
   "metadata": {},
   "source": [
    "### pd.merge()"
   ]
  },
  {
   "cell_type": "markdown",
   "id": "1424fdf1",
   "metadata": {},
   "source": [
    "It is similar to df.merge execept the first 2 arguments in pd.merge() are 2 data frames"
   ]
  },
  {
   "cell_type": "code",
   "execution_count": null,
   "id": "663bd734",
   "metadata": {},
   "outputs": [],
   "source": []
  }
 ],
 "metadata": {
  "kernelspec": {
   "display_name": "Python 3 (ipykernel)",
   "language": "python",
   "name": "python3"
  },
  "language_info": {
   "codemirror_mode": {
    "name": "ipython",
    "version": 3
   },
   "file_extension": ".py",
   "mimetype": "text/x-python",
   "name": "python",
   "nbconvert_exporter": "python",
   "pygments_lexer": "ipython3",
   "version": "3.10.2"
  }
 },
 "nbformat": 4,
 "nbformat_minor": 5
}
