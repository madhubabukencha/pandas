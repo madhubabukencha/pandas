{
 "cells": [
  {
   "cell_type": "markdown",
   "id": "49c859e5",
   "metadata": {},
   "source": [
    "<center><font size=6 color=\"#00416d\">Working With Text</font></center>"
   ]
  },
  {
   "cell_type": "code",
   "execution_count": null,
   "id": "f9b4b47b",
   "metadata": {},
   "outputs": [],
   "source": [
    "import pandas as pd"
   ]
  },
  {
   "cell_type": "code",
   "execution_count": null,
   "id": "c51ab606",
   "metadata": {},
   "outputs": [],
   "source": [
    "chicago = pd.read_csv(\"chicago.csv\")\n",
    "chicago.info()"
   ]
  },
  {
   "cell_type": "code",
   "execution_count": null,
   "id": "df9117b7",
   "metadata": {},
   "outputs": [],
   "source": [
    "chicago.nunique()"
   ]
  },
  {
   "cell_type": "code",
   "execution_count": null,
   "id": "f465492d",
   "metadata": {},
   "outputs": [],
   "source": [
    "chicago[\"Department\"] = chicago[\"Department\"].astype(\"category\")"
   ]
  },
  {
   "cell_type": "code",
   "execution_count": null,
   "id": "8bb719d4",
   "metadata": {},
   "outputs": [],
   "source": [
    "chicago.info()"
   ]
  },
  {
   "cell_type": "markdown",
   "id": "c8e4597c",
   "metadata": {},
   "source": [
    "### .lower(), .upper(), .len() , .title() methods"
   ]
  },
  {
   "cell_type": "code",
   "execution_count": null,
   "id": "beb2e6a5",
   "metadata": {},
   "outputs": [],
   "source": [
    "df = pd.read_csv(\"chicago.csv\")\n",
    "df.head()"
   ]
  },
  {
   "cell_type": "code",
   "execution_count": null,
   "id": "fa67e884",
   "metadata": {},
   "outputs": [],
   "source": [
    "# You will get below error, if you run below statement\n",
    "# AttributeError: 'Series' object has no attribute 'lower'\n",
    "# df[\"Name\"].lower()"
   ]
  },
  {
   "cell_type": "code",
   "execution_count": null,
   "id": "3e741175",
   "metadata": {},
   "outputs": [],
   "source": [
    "# To convert lower\n",
    "df[\"Position Title\"].str.lower()"
   ]
  },
  {
   "cell_type": "code",
   "execution_count": null,
   "id": "872108ea",
   "metadata": {},
   "outputs": [],
   "source": [
    "# To convert upper\n",
    "df[\"Position Title\"].str.lower().str.upper()"
   ]
  },
  {
   "cell_type": "code",
   "execution_count": null,
   "id": "39a3bd23",
   "metadata": {},
   "outputs": [],
   "source": [
    "# To convert as title\n",
    "df[\"Position Title\"].str.title()"
   ]
  },
  {
   "cell_type": "code",
   "execution_count": null,
   "id": "bfcda730",
   "metadata": {},
   "outputs": [],
   "source": [
    "# To check length of each word\n",
    "df[\"Position Title\"].str.len()"
   ]
  },
  {
   "cell_type": "markdown",
   "id": "c3445aa6",
   "metadata": {},
   "source": [
    "### The .replace() method"
   ]
  },
  {
   "cell_type": "code",
   "execution_count": null,
   "id": "a7b98029",
   "metadata": {},
   "outputs": [],
   "source": [
    "df = pd.read_csv(\"chicago.csv\").dropna(how=\"all\")"
   ]
  },
  {
   "cell_type": "code",
   "execution_count": null,
   "id": "d3363abc",
   "metadata": {},
   "outputs": [],
   "source": [
    "# how it works in python\n",
    "\"Madhu Babu Kencha\".replace(\"a\", \"A\")"
   ]
  },
  {
   "cell_type": "code",
   "execution_count": null,
   "id": "1cf8351d",
   "metadata": {},
   "outputs": [],
   "source": [
    "# In pandas\n",
    "df[\"Department\"] = df[\"Department\"].str.replace(\"MGMNT\", \"MANAGEMENT\")"
   ]
  },
  {
   "cell_type": "code",
   "execution_count": null,
   "id": "48f9d5cf",
   "metadata": {},
   "outputs": [],
   "source": [
    "df[\"Employee Annual Salary\"].str.replace(\"\\$\",\"\").astype(\"float\").sum()"
   ]
  },
  {
   "cell_type": "markdown",
   "id": "1ba38598",
   "metadata": {},
   "source": [
    "### The .contains(), .startswith(), .endswith()"
   ]
  },
  {
   "cell_type": "code",
   "execution_count": null,
   "id": "87409a05",
   "metadata": {},
   "outputs": [],
   "source": [
    "df = pd.read_csv(\"chicago.csv\").dropna(how=\"all\")\n",
    "df.head()"
   ]
  },
  {
   "cell_type": "code",
   "execution_count": null,
   "id": "ee66384f",
   "metadata": {},
   "outputs": [],
   "source": [
    "# It will return all the matching rows, if \"Position Title\" values contains water word in it\n",
    "df[df[\"Position Title\"].str.lower().str.contains(\"water\")]"
   ]
  },
  {
   "cell_type": "code",
   "execution_count": null,
   "id": "94fa148e",
   "metadata": {},
   "outputs": [],
   "source": [
    "df[df[\"Position Title\"].str.lower().str.startswith(\"water\")]"
   ]
  },
  {
   "cell_type": "code",
   "execution_count": null,
   "id": "c3885b21",
   "metadata": {},
   "outputs": [],
   "source": [
    "df[df[\"Position Title\"].str.lower().str.endswith(\"taker\")]"
   ]
  },
  {
   "cell_type": "markdown",
   "id": "dc6ba871",
   "metadata": {},
   "source": [
    "### The .strip(), .lstrip(), .rstrip()"
   ]
  },
  {
   "cell_type": "code",
   "execution_count": null,
   "id": "c8e505e8",
   "metadata": {},
   "outputs": [],
   "source": [
    "df = pd.read_csv(\"chicago.csv\").dropna(how=\"all\")\n",
    "df.head()"
   ]
  },
  {
   "cell_type": "code",
   "execution_count": null,
   "id": "b3b656e2",
   "metadata": {},
   "outputs": [],
   "source": [
    "df[\"Employee Annual Salary\"].str.lstrip(\"$\")"
   ]
  },
  {
   "cell_type": "code",
   "execution_count": null,
   "id": "a88239d9",
   "metadata": {},
   "outputs": [],
   "source": [
    "df[\"Position Title\"].str.rstrip(\"OFFICER\")"
   ]
  },
  {
   "cell_type": "code",
   "execution_count": null,
   "id": "4b897ecb",
   "metadata": {},
   "outputs": [],
   "source": [
    "# To remove white space on both side\n",
    "df[\"Name\"].str.strip(\"\")"
   ]
  },
  {
   "cell_type": "markdown",
   "id": "41e259ae",
   "metadata": {},
   "source": [
    "### Applying str methods on index and columns"
   ]
  },
  {
   "cell_type": "code",
   "execution_count": null,
   "id": "ee6c3d2f",
   "metadata": {},
   "outputs": [],
   "source": [
    "df = pd.read_csv(\"chicago.csv\").dropna(how=\"all\")\n",
    "df.set_index(\"Name\", inplace=True)\n",
    "df.head()"
   ]
  },
  {
   "cell_type": "code",
   "execution_count": null,
   "id": "d4c83653",
   "metadata": {},
   "outputs": [],
   "source": [
    "df.index = df.index.str.strip(\"\")"
   ]
  },
  {
   "cell_type": "code",
   "execution_count": null,
   "id": "d535a3f5",
   "metadata": {},
   "outputs": [],
   "source": [
    "df.columns = df.columns.str.replace(\" \", \"_\")"
   ]
  },
  {
   "cell_type": "code",
   "execution_count": null,
   "id": "c8cd0874",
   "metadata": {},
   "outputs": [],
   "source": [
    "df"
   ]
  },
  {
   "cell_type": "markdown",
   "id": "6b235ca4",
   "metadata": {},
   "source": [
    "### Split() method"
   ]
  },
  {
   "cell_type": "code",
   "execution_count": null,
   "id": "78a7a51b",
   "metadata": {},
   "outputs": [],
   "source": [
    "df = pd.read_csv(\"chicago.csv\")\n",
    "df.head()"
   ]
  },
  {
   "cell_type": "code",
   "execution_count": null,
   "id": "cbd9d77d",
   "metadata": {},
   "outputs": [],
   "source": [
    "# This is how split method works in python\n",
    "\"I love coding\".split(\" \") # Spliting data at the space"
   ]
  },
  {
   "cell_type": "code",
   "execution_count": null,
   "id": "1295fb0a",
   "metadata": {},
   "outputs": [],
   "source": [
    "# split in pandas\n",
    "df['Name'].str.split(\",\")"
   ]
  },
  {
   "cell_type": "code",
   "execution_count": null,
   "id": "87b35545",
   "metadata": {},
   "outputs": [],
   "source": [
    "# To get first element of each list and it's count\n",
    "df['Name'].str.split(\",\").str.get(0).value_counts()"
   ]
  },
  {
   "cell_type": "code",
   "execution_count": null,
   "id": "aa2d1f0f",
   "metadata": {},
   "outputs": [],
   "source": [
    "# To 5 most common middle name\n",
    "df['Name'].str.split(\",\").str.get(1).str.strip().str.split(\" \").str.get(0).value_counts().head()"
   ]
  },
  {
   "cell_type": "code",
   "execution_count": null,
   "id": "8a0dbe79",
   "metadata": {},
   "outputs": [],
   "source": [
    "# The expand argument returns a new data frame\n",
    "df[[\"Last Name\", \"First Name\"]] = df['Name'].str.split(\",\", expand=True)\n",
    "df.head()"
   ]
  },
  {
   "cell_type": "code",
   "execution_count": null,
   "id": "df6e713b",
   "metadata": {},
   "outputs": [],
   "source": [
    "# n parameter represents number of splits\n",
    "df[\"Position Title\"].str.split(\" \", expand=True, n=1)"
   ]
  },
  {
   "cell_type": "code",
   "execution_count": null,
   "id": "5b5258c9",
   "metadata": {},
   "outputs": [],
   "source": []
  }
 ],
 "metadata": {
  "kernelspec": {
   "display_name": "Python 3 (ipykernel)",
   "language": "python",
   "name": "python3"
  },
  "language_info": {
   "codemirror_mode": {
    "name": "ipython",
    "version": 3
   },
   "file_extension": ".py",
   "mimetype": "text/x-python",
   "name": "python",
   "nbconvert_exporter": "python",
   "pygments_lexer": "ipython3",
   "version": "3.10.2"
  }
 },
 "nbformat": 4,
 "nbformat_minor": 5
}
