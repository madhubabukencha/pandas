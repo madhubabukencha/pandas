{
 "cells": [
  {
   "cell_type": "code",
   "execution_count": 15,
   "id": "24107f47",
   "metadata": {},
   "outputs": [],
   "source": [
    "import pandas as pd\n",
    "from pandas_datareader import data\n",
    "import matplotlib.pyplot as plt\n",
    "%matplotlib inline"
   ]
  },
  {
   "cell_type": "markdown",
   "id": "b82d4d8d",
   "metadata": {},
   "source": [
    "### Visualizing stock data"
   ]
  },
  {
   "cell_type": "code",
   "execution_count": null,
   "id": "98369374",
   "metadata": {},
   "outputs": [],
   "source": [
    "stock_data = data.DataReader(name=\"BAJAJFINSV.NS\", data_source=\"yahoo\")\n",
    "stock_data.head(5)"
   ]
  },
  {
   "cell_type": "code",
   "execution_count": null,
   "id": "d09a85d6",
   "metadata": {},
   "outputs": [],
   "source": [
    "# Applying plot on entire data frame\n",
    "stock_data.plot()"
   ]
  },
  {
   "cell_type": "code",
   "execution_count": null,
   "id": "3d7f1701",
   "metadata": {},
   "outputs": [],
   "source": [
    "# Applying on perticular column\n",
    "stock_data.plot(y=\"Close\")"
   ]
  },
  {
   "cell_type": "code",
   "execution_count": null,
   "id": "0f0c367c",
   "metadata": {},
   "outputs": [],
   "source": [
    "# stock_data.plot(y=[\"Open\", \"Close\"])\n",
    "stock_data[[\"Open\", \"Close\"]].plot()"
   ]
  },
  {
   "cell_type": "markdown",
   "id": "64481f1d",
   "metadata": {},
   "source": [
    "### Modifying plot aesthetics using plt.style"
   ]
  },
  {
   "cell_type": "code",
   "execution_count": 2,
   "id": "d751afaf",
   "metadata": {},
   "outputs": [
    {
     "data": {
      "text/html": [
       "<div>\n",
       "<style scoped>\n",
       "    .dataframe tbody tr th:only-of-type {\n",
       "        vertical-align: middle;\n",
       "    }\n",
       "\n",
       "    .dataframe tbody tr th {\n",
       "        vertical-align: top;\n",
       "    }\n",
       "\n",
       "    .dataframe thead th {\n",
       "        text-align: right;\n",
       "    }\n",
       "</style>\n",
       "<table border=\"1\" class=\"dataframe\">\n",
       "  <thead>\n",
       "    <tr style=\"text-align: right;\">\n",
       "      <th></th>\n",
       "      <th>High</th>\n",
       "      <th>Low</th>\n",
       "      <th>Open</th>\n",
       "      <th>Close</th>\n",
       "      <th>Volume</th>\n",
       "      <th>Adj Close</th>\n",
       "    </tr>\n",
       "    <tr>\n",
       "      <th>Date</th>\n",
       "      <th></th>\n",
       "      <th></th>\n",
       "      <th></th>\n",
       "      <th></th>\n",
       "      <th></th>\n",
       "      <th></th>\n",
       "    </tr>\n",
       "  </thead>\n",
       "  <tbody>\n",
       "    <tr>\n",
       "      <th>2017-04-12</th>\n",
       "      <td>4528.000000</td>\n",
       "      <td>4380.000000</td>\n",
       "      <td>4389.700195</td>\n",
       "      <td>4502.950195</td>\n",
       "      <td>145418.0</td>\n",
       "      <td>4494.663574</td>\n",
       "    </tr>\n",
       "    <tr>\n",
       "      <th>2017-04-13</th>\n",
       "      <td>4659.700195</td>\n",
       "      <td>4471.000000</td>\n",
       "      <td>4500.049805</td>\n",
       "      <td>4611.899902</td>\n",
       "      <td>133243.0</td>\n",
       "      <td>4603.413086</td>\n",
       "    </tr>\n",
       "    <tr>\n",
       "      <th>2017-04-17</th>\n",
       "      <td>4699.000000</td>\n",
       "      <td>4472.000000</td>\n",
       "      <td>4647.899902</td>\n",
       "      <td>4493.450195</td>\n",
       "      <td>137018.0</td>\n",
       "      <td>4485.181152</td>\n",
       "    </tr>\n",
       "    <tr>\n",
       "      <th>2017-04-18</th>\n",
       "      <td>4565.000000</td>\n",
       "      <td>4350.100098</td>\n",
       "      <td>4525.000000</td>\n",
       "      <td>4369.399902</td>\n",
       "      <td>129393.0</td>\n",
       "      <td>4361.358398</td>\n",
       "    </tr>\n",
       "    <tr>\n",
       "      <th>2017-04-19</th>\n",
       "      <td>4425.000000</td>\n",
       "      <td>4325.000000</td>\n",
       "      <td>4374.299805</td>\n",
       "      <td>4340.049805</td>\n",
       "      <td>86116.0</td>\n",
       "      <td>4332.062988</td>\n",
       "    </tr>\n",
       "  </tbody>\n",
       "</table>\n",
       "</div>"
      ],
      "text/plain": [
       "                   High          Low         Open        Close    Volume  \\\n",
       "Date                                                                       \n",
       "2017-04-12  4528.000000  4380.000000  4389.700195  4502.950195  145418.0   \n",
       "2017-04-13  4659.700195  4471.000000  4500.049805  4611.899902  133243.0   \n",
       "2017-04-17  4699.000000  4472.000000  4647.899902  4493.450195  137018.0   \n",
       "2017-04-18  4565.000000  4350.100098  4525.000000  4369.399902  129393.0   \n",
       "2017-04-19  4425.000000  4325.000000  4374.299805  4340.049805   86116.0   \n",
       "\n",
       "              Adj Close  \n",
       "Date                     \n",
       "2017-04-12  4494.663574  \n",
       "2017-04-13  4603.413086  \n",
       "2017-04-17  4485.181152  \n",
       "2017-04-18  4361.358398  \n",
       "2017-04-19  4332.062988  "
      ]
     },
     "execution_count": 2,
     "metadata": {},
     "output_type": "execute_result"
    }
   ],
   "source": [
    "stock_data = data.DataReader(name=\"BAJAJFINSV.NS\", data_source=\"yahoo\")\n",
    "stock_data.head(5)"
   ]
  },
  {
   "cell_type": "code",
   "execution_count": null,
   "id": "aff23bac",
   "metadata": {},
   "outputs": [],
   "source": [
    "plt.style.available"
   ]
  },
  {
   "cell_type": "code",
   "execution_count": null,
   "id": "afc48834",
   "metadata": {},
   "outputs": [],
   "source": [
    "plt.style.use(\"classic\")\n",
    "stock_data.plot(y=\"Close\")"
   ]
  },
  {
   "cell_type": "code",
   "execution_count": null,
   "id": "2c513e84",
   "metadata": {},
   "outputs": [],
   "source": [
    "plt.style.use(\"dark_background\")\n",
    "stock_data.plot(y=\"Close\")"
   ]
  },
  {
   "cell_type": "code",
   "execution_count": null,
   "id": "4b833789",
   "metadata": {},
   "outputs": [],
   "source": [
    "plt.style.use(\"ggplot\")\n",
    "stock_data.plot(y=\"Close\")"
   ]
  },
  {
   "cell_type": "code",
   "execution_count": null,
   "id": "71014f33",
   "metadata": {},
   "outputs": [],
   "source": [
    "stock_data.tail(10)[\"Close\"].plot(kind=\"barh\")"
   ]
  },
  {
   "cell_type": "code",
   "execution_count": 4,
   "id": "2862bab3",
   "metadata": {},
   "outputs": [],
   "source": [
    "mean = stock_data['Close'].mean()"
   ]
  },
  {
   "cell_type": "code",
   "execution_count": 5,
   "id": "2bd1223e",
   "metadata": {},
   "outputs": [],
   "source": [
    "def stock_performance(stock_price):\n",
    "    if stock_price >= mean:\n",
    "        return \"Good\"\n",
    "    elif stock_price < mean:\n",
    "        return \"Bad\""
   ]
  },
  {
   "cell_type": "code",
   "execution_count": 8,
   "id": "d07b1413",
   "metadata": {},
   "outputs": [],
   "source": [
    "data = stock_data[\"Close\"].apply(stock_performance).value_counts()"
   ]
  },
  {
   "cell_type": "code",
   "execution_count": 13,
   "id": "c01e1e9c",
   "metadata": {},
   "outputs": [
    {
     "data": {
      "text/plain": [
       "<AxesSubplot:ylabel='Close'>"
      ]
     },
     "execution_count": 13,
     "metadata": {},
     "output_type": "execute_result"
    },
    {
     "data": {
      "image/png": "[encoded data removed]",
      "text/plain": [
       "<Figure size 432x288 with 1 Axes>"
      ]
     },
     "metadata": {},
     "output_type": "display_data"
    }
   ],
   "source": [
    "plt.style.use(\"dark_background\")\n",
    "data.plot(kind=\"pie\", legend=True)"
   ]
  },
  {
   "cell_type": "code",
   "execution_count": 29,
   "id": "b2414368",
   "metadata": {},
   "outputs": [],
   "source": [
    "stock_data = data.DataReader(name=\"INFY.NS\", data_source=\"yahoo\", start=\"2022-01-01\")"
   ]
  },
  {
   "cell_type": "code",
   "execution_count": 30,
   "id": "2d4937f0",
   "metadata": {},
   "outputs": [
    {
     "data": {
      "text/html": [
       "<div>\n",
       "<style scoped>\n",
       "    .dataframe tbody tr th:only-of-type {\n",
       "        vertical-align: middle;\n",
       "    }\n",
       "\n",
       "    .dataframe tbody tr th {\n",
       "        vertical-align: top;\n",
       "    }\n",
       "\n",
       "    .dataframe thead th {\n",
       "        text-align: right;\n",
       "    }\n",
       "</style>\n",
       "<table border=\"1\" class=\"dataframe\">\n",
       "  <thead>\n",
       "    <tr style=\"text-align: right;\">\n",
       "      <th></th>\n",
       "      <th>High</th>\n",
       "      <th>Low</th>\n",
       "      <th>Open</th>\n",
       "      <th>Close</th>\n",
       "      <th>Volume</th>\n",
       "      <th>Adj Close</th>\n",
       "    </tr>\n",
       "    <tr>\n",
       "      <th>Date</th>\n",
       "      <th></th>\n",
       "      <th></th>\n",
       "      <th></th>\n",
       "      <th></th>\n",
       "      <th></th>\n",
       "      <th></th>\n",
       "    </tr>\n",
       "  </thead>\n",
       "  <tbody>\n",
       "    <tr>\n",
       "      <th>2022-01-03</th>\n",
       "      <td>1914.050049</td>\n",
       "      <td>1887.750000</td>\n",
       "      <td>1887.750000</td>\n",
       "      <td>1898.449951</td>\n",
       "      <td>3329616</td>\n",
       "      <td>1898.449951</td>\n",
       "    </tr>\n",
       "    <tr>\n",
       "      <th>2022-01-04</th>\n",
       "      <td>1906.650024</td>\n",
       "      <td>1878.000000</td>\n",
       "      <td>1898.449951</td>\n",
       "      <td>1899.150024</td>\n",
       "      <td>3921999</td>\n",
       "      <td>1899.150024</td>\n",
       "    </tr>\n",
       "    <tr>\n",
       "      <th>2022-01-05</th>\n",
       "      <td>1902.900024</td>\n",
       "      <td>1840.000000</td>\n",
       "      <td>1900.000000</td>\n",
       "      <td>1844.650024</td>\n",
       "      <td>6995719</td>\n",
       "      <td>1844.650024</td>\n",
       "    </tr>\n",
       "    <tr>\n",
       "      <th>2022-01-06</th>\n",
       "      <td>1828.000000</td>\n",
       "      <td>1800.000000</td>\n",
       "      <td>1828.000000</td>\n",
       "      <td>1817.800049</td>\n",
       "      <td>6449205</td>\n",
       "      <td>1817.800049</td>\n",
       "    </tr>\n",
       "    <tr>\n",
       "      <th>2022-01-07</th>\n",
       "      <td>1836.000000</td>\n",
       "      <td>1806.800049</td>\n",
       "      <td>1815.449951</td>\n",
       "      <td>1814.300049</td>\n",
       "      <td>4834389</td>\n",
       "      <td>1814.300049</td>\n",
       "    </tr>\n",
       "    <tr>\n",
       "      <th>...</th>\n",
       "      <td>...</td>\n",
       "      <td>...</td>\n",
       "      <td>...</td>\n",
       "      <td>...</td>\n",
       "      <td>...</td>\n",
       "      <td>...</td>\n",
       "    </tr>\n",
       "    <tr>\n",
       "      <th>2022-04-05</th>\n",
       "      <td>1889.599976</td>\n",
       "      <td>1857.150024</td>\n",
       "      <td>1883.800049</td>\n",
       "      <td>1861.099976</td>\n",
       "      <td>5472024</td>\n",
       "      <td>1861.099976</td>\n",
       "    </tr>\n",
       "    <tr>\n",
       "      <th>2022-04-06</th>\n",
       "      <td>1857.500000</td>\n",
       "      <td>1822.150024</td>\n",
       "      <td>1855.000000</td>\n",
       "      <td>1828.849976</td>\n",
       "      <td>5407453</td>\n",
       "      <td>1828.849976</td>\n",
       "    </tr>\n",
       "    <tr>\n",
       "      <th>2022-04-07</th>\n",
       "      <td>1828.150024</td>\n",
       "      <td>1807.550049</td>\n",
       "      <td>1821.050049</td>\n",
       "      <td>1811.000000</td>\n",
       "      <td>5797544</td>\n",
       "      <td>1811.000000</td>\n",
       "    </tr>\n",
       "    <tr>\n",
       "      <th>2022-04-08</th>\n",
       "      <td>1838.000000</td>\n",
       "      <td>1808.000000</td>\n",
       "      <td>1823.000000</td>\n",
       "      <td>1814.599976</td>\n",
       "      <td>5131446</td>\n",
       "      <td>1814.599976</td>\n",
       "    </tr>\n",
       "    <tr>\n",
       "      <th>2022-04-11</th>\n",
       "      <td>1814.000000</td>\n",
       "      <td>1765.000000</td>\n",
       "      <td>1814.000000</td>\n",
       "      <td>1765.949951</td>\n",
       "      <td>4179950</td>\n",
       "      <td>1765.949951</td>\n",
       "    </tr>\n",
       "  </tbody>\n",
       "</table>\n",
       "<p>68 rows × 6 columns</p>\n",
       "</div>"
      ],
      "text/plain": [
       "                   High          Low         Open        Close   Volume  \\\n",
       "Date                                                                      \n",
       "2022-01-03  1914.050049  1887.750000  1887.750000  1898.449951  3329616   \n",
       "2022-01-04  1906.650024  1878.000000  1898.449951  1899.150024  3921999   \n",
       "2022-01-05  1902.900024  1840.000000  1900.000000  1844.650024  6995719   \n",
       "2022-01-06  1828.000000  1800.000000  1828.000000  1817.800049  6449205   \n",
       "2022-01-07  1836.000000  1806.800049  1815.449951  1814.300049  4834389   \n",
       "...                 ...          ...          ...          ...      ...   \n",
       "2022-04-05  1889.599976  1857.150024  1883.800049  1861.099976  5472024   \n",
       "2022-04-06  1857.500000  1822.150024  1855.000000  1828.849976  5407453   \n",
       "2022-04-07  1828.150024  1807.550049  1821.050049  1811.000000  5797544   \n",
       "2022-04-08  1838.000000  1808.000000  1823.000000  1814.599976  5131446   \n",
       "2022-04-11  1814.000000  1765.000000  1814.000000  1765.949951  4179950   \n",
       "\n",
       "              Adj Close  \n",
       "Date                     \n",
       "2022-01-03  1898.449951  \n",
       "2022-01-04  1899.150024  \n",
       "2022-01-05  1844.650024  \n",
       "2022-01-06  1817.800049  \n",
       "2022-01-07  1814.300049  \n",
       "...                 ...  \n",
       "2022-04-05  1861.099976  \n",
       "2022-04-06  1828.849976  \n",
       "2022-04-07  1811.000000  \n",
       "2022-04-08  1814.599976  \n",
       "2022-04-11  1765.949951  \n",
       "\n",
       "[68 rows x 6 columns]"
      ]
     },
     "execution_count": 30,
     "metadata": {},
     "output_type": "execute_result"
    }
   ],
   "source": [
    "stock_data"
   ]
  },
  {
   "cell_type": "code",
   "execution_count": 34,
   "id": "b0659b8d",
   "metadata": {},
   "outputs": [
    {
     "data": {
      "text/plain": [
       "High         36\n",
       "Low          36\n",
       "Open         36\n",
       "Close        36\n",
       "Volume       36\n",
       "Adj Close    36\n",
       "dtype: int64"
      ]
     },
     "execution_count": 34,
     "metadata": {},
     "output_type": "execute_result"
    }
   ],
   "source": [
    "stock_data[stock_data['Close'] > 1800].count()"
   ]
  },
  {
   "cell_type": "code",
   "execution_count": null,
   "id": "24491a2e",
   "metadata": {},
   "outputs": [],
   "source": []
  },
  {
   "cell_type": "code",
   "execution_count": null,
   "id": "9075102e",
   "metadata": {},
   "outputs": [],
   "source": []
  }
 ],
 "metadata": {
  "kernelspec": {
   "display_name": "Python 3 (ipykernel)",
   "language": "python",
   "name": "python3"
  },
  "language_info": {
   "codemirror_mode": {
    "name": "ipython",
    "version": 3
   },
   "file_extension": ".py",
   "mimetype": "text/x-python",
   "name": "python",
   "nbconvert_exporter": "python",
   "pygments_lexer": "ipython3",
   "version": "3.10.2"
  }
 },
 "nbformat": 4,
 "nbformat_minor": 5
}
