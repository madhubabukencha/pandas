{
 "cells": [
  {
   "cell_type": "markdown",
   "id": "41b1dd60",
   "metadata": {},
   "source": [
    "<center><font size=6 color=\"#00416d\">Pandas Datetime</font></center>"
   ]
  },
  {
   "cell_type": "code",
   "execution_count": null,
   "id": "15ac7cdb",
   "metadata": {},
   "outputs": [],
   "source": [
    "import pandas as pd\n",
    "# importing python default module\n",
    "import datetime as dt\n",
    "from pandas_datareader import data"
   ]
  },
  {
   "cell_type": "markdown",
   "id": "1148b582",
   "metadata": {},
   "source": [
    "### Exploring Python datetime module"
   ]
  },
  {
   "cell_type": "code",
   "execution_count": null,
   "id": "42a50a0c",
   "metadata": {},
   "outputs": [],
   "source": [
    "# date method from datetime module\n",
    "date = dt.date(1996, 5, 13)"
   ]
  },
  {
   "cell_type": "code",
   "execution_count": null,
   "id": "824754d7",
   "metadata": {},
   "outputs": [],
   "source": [
    "str(date)"
   ]
  },
  {
   "cell_type": "code",
   "execution_count": null,
   "id": "2de94974",
   "metadata": {},
   "outputs": [],
   "source": [
    "date.year, date.month, date.day"
   ]
  },
  {
   "cell_type": "code",
   "execution_count": null,
   "id": "20947db3",
   "metadata": {},
   "outputs": [],
   "source": [
    "# datetime method from datetime module\n",
    "datetime = dt.datetime(year=1996,\n",
    "                       month=5,\n",
    "                       day=13,\n",
    "                       hour=14,\n",
    "                       minute=42,\n",
    "                       second=23)"
   ]
  },
  {
   "cell_type": "code",
   "execution_count": null,
   "id": "1b4970d3",
   "metadata": {},
   "outputs": [],
   "source": [
    "str(datetime)"
   ]
  },
  {
   "cell_type": "markdown",
   "id": "c4da6907",
   "metadata": {},
   "source": [
    "### Pandas Timestamp"
   ]
  },
  {
   "cell_type": "markdown",
   "id": "3f6f4633",
   "metadata": {},
   "source": [
    "Timestamp is the pandas equivalent of python’s Datetime and is interchangeable with it in most cases. It’s the type used for the entries that make up a DatetimeIndex, and other timeseries oriented data structures in pandas"
   ]
  },
  {
   "cell_type": "markdown",
   "id": "269c8e72",
   "metadata": {},
   "source": [
    "<strong>Documentation:</strong><br>\n",
    "<a style=\"text-decoration:none\" href=\"https://pandas.pydata.org/docs/reference/api/pandas.Timestamp.html\">pandas.Timestamp</a>"
   ]
  },
  {
   "cell_type": "code",
   "execution_count": null,
   "id": "d55bd8d2",
   "metadata": {},
   "outputs": [],
   "source": [
    "# We can pass date in different formats to the Timestamp class\n",
    "pd.Timestamp(\"2022-03-30\")\n",
    "pd.Timestamp(\"2022/3/30\")\n",
    "pd.Timestamp(\"2022, 3, 30\")\n",
    "pd.Timestamp(\"03-30-22\")\n",
    "pd.Timestamp(\"30-3-22\")\n",
    "pd.Timestamp(\"2022, 3, 30\")\n",
    "pd.Timestamp(\"2022, 3, 30 12:15:02 PM\")\n",
    "# output: Timestamp('2022-03-30 15:15:02')\n",
    "pd.Timestamp(\"2022, 3, 30 3:15:02 PM\")\n",
    "pd.Timestamp(dt.date(2022,3,30))\n",
    "pd.Timestamp(2022, 3, 30)\n",
    "pd.Timestamp(1513393355.5, unit='s')\n",
    "pd.Timestamp(1513393355, unit='s', tz='US/Pacific')"
   ]
  },
  {
   "cell_type": "code",
   "execution_count": null,
   "id": "33f5559f",
   "metadata": {},
   "outputs": [],
   "source": [
    "# ValueError: could not convert string to Timestamp\n",
    "# pd.Timestamp(\"2022-30-03\")"
   ]
  },
  {
   "cell_type": "markdown",
   "id": "6f58c157",
   "metadata": {},
   "source": [
    "### Pandas DatetimeIndex\n",
    "\n",
    "To convert array/list of dates into Timestamp"
   ]
  },
  {
   "cell_type": "code",
   "execution_count": null,
   "id": "6e7a69f9",
   "metadata": {},
   "outputs": [],
   "source": [
    "dates = pd.DatetimeIndex([\"2022-03-01 15:24:13\", \"2022-03-02\", \"2022-03-03\",\n",
    "                          2016, \"16th july 2022\", \"16th july 2022\"], # array-like (1-dimensional), optional\n",
    "                        )\n",
    "dates"
   ]
  },
  {
   "cell_type": "code",
   "execution_count": null,
   "id": "3bd68f9a",
   "metadata": {},
   "outputs": [],
   "source": [
    "dates[0]"
   ]
  },
  {
   "cell_type": "code",
   "execution_count": null,
   "id": "111d9c07",
   "metadata": {},
   "outputs": [],
   "source": [
    "# TypeError: DatetimeIndex(...) must be called with a collection of some kind, 2016 was passed\n",
    "pd.DatetimeIndex(2016)"
   ]
  },
  {
   "cell_type": "markdown",
   "id": "8ecceeb6",
   "metadata": {},
   "source": [
    "### pandas.to_datetime"
   ]
  },
  {
   "cell_type": "markdown",
   "id": "6d159846",
   "metadata": {},
   "source": [
    "Convert argument to datetime.\n",
    "\n",
    "This function converts a scalar, array-like, Series or DataFrame/dict-like to a pandas datetime object."
   ]
  },
  {
   "cell_type": "markdown",
   "id": "43d111ad",
   "metadata": {},
   "source": [
    "<strong>Documentation:</strong><br>\n",
    "<a style=\"text-decoration:none\" href=\"https://pandas.pydata.org/docs/reference/api/pandas.to_datetime.html#pandas.to_datetime\">pandas.to_datetime</a>"
   ]
  },
  {
   "cell_type": "code",
   "execution_count": null,
   "id": "00835487",
   "metadata": {},
   "outputs": [],
   "source": [
    "pd.to_datetime(\"2016,22,1\")\n",
    "pd.to_datetime([\"2016\", \"13/05/1996\"])"
   ]
  },
  {
   "cell_type": "code",
   "execution_count": null,
   "id": "dd4d0e35",
   "metadata": {},
   "outputs": [],
   "source": [
    "pd.to_datetime(pd.Series([\"2016\", \"13/05/1996\", 2016]))"
   ]
  },
  {
   "cell_type": "code",
   "execution_count": null,
   "id": "85b245be",
   "metadata": {},
   "outputs": [],
   "source": [
    "pd.to_datetime(pd.Series([\"2016\", \"13/05/1996\", 2016, \"skds\", \"442211\"]),\n",
    "               errors=\"coerce\", # To avoid errors\n",
    "              )"
   ]
  },
  {
   "cell_type": "markdown",
   "id": "e5d9dbfa",
   "metadata": {},
   "source": [
    "### pandas.date_range()"
   ]
  },
  {
   "cell_type": "markdown",
   "id": "cbb60c87",
   "metadata": {},
   "source": [
    "Return a fixed frequency DatetimeIndex.\n",
    "\n",
    "<strong>Documentation:</strong><br>\n",
    "<a style=\"text-decoration:none\" href=\"https://pandas.pydata.org/docs/reference/api/pandas.date_range.html\">pandas.date_range</a> <br>\n",
    "\n",
    "To see the list of values to pass <b>freq</b> parameter: <br>\n",
    "<a style=\"text-decoration:none\" href=\"https://pandas.pydata.org/docs/user_guide/timeseries.html#timeseries-offset-aliases\"> DateOffsets</a> <br>"
   ]
  },
  {
   "cell_type": "code",
   "execution_count": null,
   "id": "3540a21a",
   "metadata": {},
   "outputs": [],
   "source": [
    "pd.date_range(start=\"2022-01-01\", end=\"2022-01-10\")"
   ]
  },
  {
   "cell_type": "code",
   "execution_count": null,
   "id": "20271a06",
   "metadata": {},
   "outputs": [],
   "source": [
    "pd.date_range(start=\"2022-01-01\", end=\"2022-01-10\", freq=\"2D\")"
   ]
  },
  {
   "cell_type": "code",
   "execution_count": null,
   "id": "55d84984",
   "metadata": {},
   "outputs": [],
   "source": [
    "# To get only business days\n",
    "pd.date_range(start=\"2022-04-01\", end=\"2022-04-10\", freq=\"B\")"
   ]
  },
  {
   "cell_type": "code",
   "execution_count": null,
   "id": "d6fad188",
   "metadata": {},
   "outputs": [],
   "source": [
    "# To print week of sundays\n",
    "pd.date_range(start=\"2022-04-01\", end=\"2022-04-30\", freq=\"W\")"
   ]
  },
  {
   "cell_type": "code",
   "execution_count": null,
   "id": "89f5c88c",
   "metadata": {},
   "outputs": [],
   "source": [
    "pd.date_range(start=\"2022-04-01\", end=\"2022-04-30\", freq=\"W-Mon\")"
   ]
  },
  {
   "cell_type": "markdown",
   "id": "0be9e8c1",
   "metadata": {},
   "source": [
    "### period parameter in pandas.date_range()\n",
    "To generate set of Timestamps"
   ]
  },
  {
   "cell_type": "code",
   "execution_count": null,
   "id": "f34dcd16",
   "metadata": {},
   "outputs": [],
   "source": [
    "pd.date_range(start=\"2022-04-01\", periods=25)"
   ]
  },
  {
   "cell_type": "code",
   "execution_count": null,
   "id": "ef9cff76",
   "metadata": {},
   "outputs": [],
   "source": [
    "# Generating next 25 years\n",
    "pd.date_range(start=\"2022-04-01\", periods=25, freq=\"A\")"
   ]
  },
  {
   "cell_type": "code",
   "execution_count": null,
   "id": "64febc68",
   "metadata": {},
   "outputs": [],
   "source": [
    "# Generating next 25 business days\n",
    "pd.date_range(start=\"2022-04-01\", periods=25, freq=\"B\")"
   ]
  },
  {
   "cell_type": "code",
   "execution_count": null,
   "id": "30ea301a",
   "metadata": {},
   "outputs": [],
   "source": [
    "# If you give end then it will generate 25 business days in backward direction\n",
    "pd.date_range(end=\"2022-05-13\", periods=26, freq=\"M\")"
   ]
  },
  {
   "cell_type": "markdown",
   "id": "bbadb045",
   "metadata": {},
   "source": [
    "### pandas.Series.dt"
   ]
  },
  {
   "cell_type": "markdown",
   "id": "e385a38d",
   "metadata": {},
   "source": [
    "Accessor object for datetimelike properties of the Series values.<br>\n",
    "<strong>Documentation:</strong><br>\n",
    "<a style=\"text-decoration:none\" href=\"https://pandas.pydata.org/docs/reference/api/pandas.Series.dt.html\">pandas.Series.dt</a> <br>"
   ]
  },
  {
   "cell_type": "code",
   "execution_count": null,
   "id": "f3324d83",
   "metadata": {},
   "outputs": [],
   "source": [
    "dates = pd.date_range(start=\"2022-04-01\", end=\"2022-05-01\", freq=\"D\")\n",
    "dates"
   ]
  },
  {
   "cell_type": "code",
   "execution_count": null,
   "id": "b286ce6d",
   "metadata": {},
   "outputs": [],
   "source": [
    "date_series = pd.Series(dates)\n",
    "date_series"
   ]
  },
  {
   "cell_type": "code",
   "execution_count": null,
   "id": "f97b9db1",
   "metadata": {},
   "outputs": [],
   "source": [
    "date_series.dt.day"
   ]
  },
  {
   "cell_type": "code",
   "execution_count": null,
   "id": "e76532c5",
   "metadata": {},
   "outputs": [],
   "source": [
    "date_series[date_series.dt.is_month_end]"
   ]
  },
  {
   "cell_type": "markdown",
   "id": "dc67d5d3",
   "metadata": {},
   "source": [
    "### pandas_datareader to analyse stock data"
   ]
  },
  {
   "cell_type": "code",
   "execution_count": null,
   "id": "032cefbd",
   "metadata": {},
   "outputs": [],
   "source": [
    "lalpathlab = data.DataReader(name= \"LALPATHLAB.NS\", data_source = \"yahoo\", start = \"2010-01-01\", end = \"2022-12-31\")\n",
    "lalpathlab.tail(10)"
   ]
  },
  {
   "cell_type": "code",
   "execution_count": null,
   "id": "cbddac60",
   "metadata": {},
   "outputs": [],
   "source": [
    "# To find how many days ended in profit and loss\n",
    "def loss_profit(row):\n",
    "    open_price = row[2]\n",
    "    close_price = row[3]\n",
    "    if open_price > close_price:\n",
    "        return \"LOSS\"\n",
    "    else:\n",
    "        return \"PROFIT\"\n",
    "lalpathlab['profit_loss'] = lalpathlab.apply(loss_profit, axis=1)\n",
    "lalpathlab[\"profit_loss\"].value_counts()"
   ]
  },
  {
   "cell_type": "code",
   "execution_count": null,
   "id": "2f26cd35",
   "metadata": {},
   "outputs": [],
   "source": [
    "lalpathlab.loc[\"2016-01-01\"]\n",
    "lalpathlab.loc[pd.Timestamp(\"2016-01-01\")]\n",
    "lalpathlab.iloc[20]"
   ]
  },
  {
   "cell_type": "code",
   "execution_count": null,
   "id": "c07e6da2",
   "metadata": {},
   "outputs": [],
   "source": [
    "lalpathlab.loc[[\"2016-01-01\", \"2016-01-06\"]]"
   ]
  },
  {
   "cell_type": "code",
   "execution_count": null,
   "id": "0251046a",
   "metadata": {},
   "outputs": [],
   "source": [
    "# To fecth rows in between 2 dates \n",
    "lalpathlab.loc[\"2022-03-23\":\"2022-04-3\"]\n",
    "lalpathlab.truncate(before=\"2022-03-23\", after=\"2022-04-3\")"
   ]
  },
  {
   "cell_type": "code",
   "execution_count": null,
   "id": "ca5eefd9",
   "metadata": {},
   "outputs": [],
   "source": [
    "# To see result on perticular day of the each year\n",
    "specific_date = pd.date_range(start=\"1996-05-13\", end=\"2022-05-13\", freq=pd.DateOffset(years=1))\n",
    "lalpathlab[lalpathlab.index.isin(specific_date)]"
   ]
  },
  {
   "cell_type": "markdown",
   "id": "5676b378",
   "metadata": {},
   "source": [
    "### Timestamp object attributes and methods"
   ]
  },
  {
   "cell_type": "code",
   "execution_count": null,
   "id": "57e8ceda",
   "metadata": {},
   "outputs": [],
   "source": [
    "lalpathlab = data.DataReader(name= \"LALPATHLAB.NS\", data_source = \"yahoo\", start = \"2010-01-01\", end = \"2022-12-31\")\n",
    "lalpathlab.tail(10)"
   ]
  },
  {
   "cell_type": "code",
   "execution_count": null,
   "id": "5211098a",
   "metadata": {},
   "outputs": [],
   "source": [
    "someday = lalpathlab.index[500]\n",
    "someday"
   ]
  },
  {
   "cell_type": "code",
   "execution_count": null,
   "id": "6641eaef",
   "metadata": {},
   "outputs": [],
   "source": [
    "# Attributes\n",
    "someday.month, someday.day, someday.week, someday.year, someday.is_month_end"
   ]
  },
  {
   "cell_type": "code",
   "execution_count": null,
   "id": "3e930c1e",
   "metadata": {},
   "outputs": [],
   "source": [
    "# Methods\n",
    "someday.day_name(), someday.month_name(), someday.weekofyear"
   ]
  },
  {
   "cell_type": "code",
   "execution_count": null,
   "id": "c1e3fdb6",
   "metadata": {},
   "outputs": [],
   "source": [
    "# We can apply these methods and attributes on entire index series\n",
    "lalpathlab.index.day\n",
    "lalpathlab.index.day_name()"
   ]
  },
  {
   "cell_type": "code",
   "execution_count": null,
   "id": "d9844ec5",
   "metadata": {},
   "outputs": [],
   "source": [
    "# Then we can insert it on the data frame\n",
    "lalpathlab.insert(0, \"Day\", lalpathlab.index.day_name())\n",
    "lalpathlab"
   ]
  },
  {
   "cell_type": "markdown",
   "id": "98fe2346",
   "metadata": {},
   "source": [
    "### pd.DateOffset()"
   ]
  },
  {
   "cell_type": "markdown",
   "id": "ca3f9044",
   "metadata": {},
   "source": [
    "Helps to increase or decrease the date <br>\n",
    "https://pandas.pydata.org/docs/reference/api/pandas.tseries.offsets.DateOffset.html"
   ]
  },
  {
   "cell_type": "code",
   "execution_count": null,
   "id": "7174c29b",
   "metadata": {},
   "outputs": [],
   "source": [
    "lalpathlab = data.DataReader(name= \"LALPATHLAB.NS\", data_source = \"yahoo\", start = \"2010-01-01\", end = \"2022-12-31\")\n",
    "lalpathlab.head(3)"
   ]
  },
  {
   "cell_type": "code",
   "execution_count": null,
   "id": "77f1cf68",
   "metadata": {},
   "outputs": [],
   "source": [
    "# We can't perform this kind of operation with date Timestamp object\n",
    "# lalpathlab.index + 5"
   ]
  },
  {
   "cell_type": "code",
   "execution_count": null,
   "id": "1d4cecdf",
   "metadata": {},
   "outputs": [],
   "source": [
    "lalpathlab.index + pd.DateOffset(days = 5)\n",
    "lalpathlab.index + pd.DateOffset(weeks = 5)\n",
    "lalpathlab.index - pd.DateOffset(months = 1)\n",
    "lalpathlab.index + pd.DateOffset(years = 1)"
   ]
  },
  {
   "cell_type": "code",
   "execution_count": null,
   "id": "b7aa508a",
   "metadata": {},
   "outputs": [],
   "source": [
    "lalpathlab.index + pd.DateOffset(years=1, months=1, weeks=5, days=6, hours=6, minute=45, seconds=45)"
   ]
  },
  {
   "cell_type": "markdown",
   "id": "6e67b690",
   "metadata": {},
   "source": [
    "### pandas.tseries.offsets"
   ]
  },
  {
   "cell_type": "markdown",
   "id": "84eb4eb9",
   "metadata": {},
   "source": [
    "To make dates dynamically round off to certain date"
   ]
  },
  {
   "cell_type": "code",
   "execution_count": null,
   "id": "b0318991",
   "metadata": {},
   "outputs": [],
   "source": [
    "lalpathlab = data.DataReader(name= \"LALPATHLAB.NS\", data_source = \"yahoo\", start = \"2010-01-01\", end = \"2022-12-31\")\n",
    "lalpathlab.head(3)"
   ]
  },
  {
   "cell_type": "code",
   "execution_count": null,
   "id": "cfa9a8b2",
   "metadata": {},
   "outputs": [],
   "source": [
    "lalpathlab.index"
   ]
  },
  {
   "cell_type": "code",
   "execution_count": null,
   "id": "f28d0566",
   "metadata": {},
   "outputs": [],
   "source": [
    "# To make all days to month end\n",
    "# We have one caveat here that, if already a date indicating month end ex '2015-12-31'\n",
    "# then it will round to next mount last month '2016-01-31'\n",
    "lalpathlab.index + pd.tseries.offsets.MonthEnd()"
   ]
  },
  {
   "cell_type": "code",
   "execution_count": null,
   "id": "65503803",
   "metadata": {},
   "outputs": [],
   "source": [
    "lalpathlab.index - pd.tseries.offsets.MonthBegin()"
   ]
  },
  {
   "cell_type": "code",
   "execution_count": null,
   "id": "63271be0",
   "metadata": {},
   "outputs": [],
   "source": [
    "# We have below methods to explore with\n",
    "print(dir(pd.tseries.offsets))"
   ]
  },
  {
   "cell_type": "markdown",
   "id": "b19e5543",
   "metadata": {},
   "source": [
    "### pandas.Timedelta()"
   ]
  },
  {
   "cell_type": "markdown",
   "id": "bc161bb2",
   "metadata": {},
   "source": [
    "Represents a duration, the difference between two dates or times."
   ]
  },
  {
   "cell_type": "code",
   "execution_count": null,
   "id": "5bdad33a",
   "metadata": {},
   "outputs": [],
   "source": [
    "time_a = pd.Timestamp(dt.datetime.now())\n",
    "time_b = pd.Timestamp(\"2022-05-13 00:00:01\")\n",
    "time_b - time_a"
   ]
  },
  {
   "cell_type": "code",
   "execution_count": null,
   "id": "3ca4ef12",
   "metadata": {},
   "outputs": [],
   "source": [
    "some_duration = pd.Timedelta(days=3)\n",
    "time_b + some_duration"
   ]
  },
  {
   "cell_type": "code",
   "execution_count": null,
   "id": "c171348b",
   "metadata": {},
   "outputs": [],
   "source": [
    "# We can also generate duration by passing data in string format\n",
    "pd.Timedelta(\"14 days 5 hours 34 minutes 12 seconds\")"
   ]
  },
  {
   "cell_type": "code",
   "execution_count": null,
   "id": "2d9aa362",
   "metadata": {},
   "outputs": [],
   "source": [
    "# Real life example\n",
    "data = pd.read_csv(\"ecommerce.csv\", index_col=\"ID\", parse_dates=[\"order_date\", \"delivery_date\"])\n",
    "data.head()"
   ]
  },
  {
   "cell_type": "code",
   "execution_count": null,
   "id": "6ede96f3",
   "metadata": {},
   "outputs": [],
   "source": [
    "data[\"Delivery_Time\"] = data[\"delivery_date\"] - data[\"order_date\"] "
   ]
  },
  {
   "cell_type": "code",
   "execution_count": null,
   "id": "e959976a",
   "metadata": {},
   "outputs": [],
   "source": [
    "data"
   ]
  },
  {
   "cell_type": "code",
   "execution_count": null,
   "id": "c29301f8",
   "metadata": {},
   "outputs": [],
   "source": []
  },
  {
   "cell_type": "code",
   "execution_count": null,
   "id": "51335a23",
   "metadata": {},
   "outputs": [],
   "source": []
  }
 ],
 "metadata": {
  "kernelspec": {
   "display_name": "Python 3 (ipykernel)",
   "language": "python",
   "name": "python3"
  },
  "language_info": {
   "codemirror_mode": {
    "name": "ipython",
    "version": 3
   },
   "file_extension": ".py",
   "mimetype": "text/x-python",
   "name": "python",
   "nbconvert_exporter": "python",
   "pygments_lexer": "ipython3",
   "version": "3.10.2"
  }
 },
 "nbformat": 4,
 "nbformat_minor": 5
}
