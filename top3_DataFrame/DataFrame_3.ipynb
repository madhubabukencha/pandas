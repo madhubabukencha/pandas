{
 "cells": [
  {
   "cell_type": "markdown",
   "id": "c240e9ba",
   "metadata": {},
   "source": [
    "<center><font size=6 color=\"#00416d\">DataFrame-3</font></center>"
   ]
  },
  {
   "cell_type": "markdown",
   "id": "31cead41",
   "metadata": {},
   "source": [
    "This chapter also mostly covers how to extract data from DataFrame"
   ]
  },
  {
   "cell_type": "code",
   "execution_count": null,
   "id": "881a3feb",
   "metadata": {},
   "outputs": [],
   "source": [
    "import pandas as pd"
   ]
  },
  {
   "cell_type": "markdown",
   "id": "d8971d2f",
   "metadata": {},
   "source": [
    " ### .set_index() and .reset_index() methods"
   ]
  },
  {
   "cell_type": "code",
   "execution_count": null,
   "id": "e4b6e9a6",
   "metadata": {},
   "outputs": [],
   "source": [
    "df = pd.read_csv(\"jamesbond.csv\")\n",
    "df.head()"
   ]
  },
  {
   "cell_type": "code",
   "execution_count": null,
   "id": "f7993f81",
   "metadata": {},
   "outputs": [],
   "source": [
    "# To set a new index\n",
    "# which equal to\n",
    "# pd.read_csv(\"jamesbond.csv\", index_cols=\"Film\")\n",
    "df.set_index(keys=\"Film\", inplace=True)"
   ]
  },
  {
   "cell_type": "code",
   "execution_count": null,
   "id": "6d85095e",
   "metadata": {},
   "outputs": [],
   "source": [
    "df.head()"
   ]
  },
  {
   "cell_type": "code",
   "execution_count": null,
   "id": "3877b4f5",
   "metadata": {},
   "outputs": [],
   "source": [
    "# To go back to the previous index\n",
    "df.reset_index().head()"
   ]
  },
  {
   "cell_type": "code",
   "execution_count": null,
   "id": "295462c9",
   "metadata": {},
   "outputs": [],
   "source": [
    "# To go back to the previous index and to drop recently set index\n",
    "df.reset_index(drop=True).head()"
   ]
  },
  {
   "cell_type": "code",
   "execution_count": null,
   "id": "23e08581",
   "metadata": {},
   "outputs": [],
   "source": [
    "# If set drop is False then it wouldn't delete the column\n",
    "df.set_index(\"Year\", drop=False)"
   ]
  },
  {
   "cell_type": "markdown",
   "id": "157040aa",
   "metadata": {},
   "source": [
    "### Accessing rows by using .loc() method\n",
    "\n",
    "<p><b>Usage</b>:Access a group of rows and columns by label(s) or a boolean array.</p>\n",
    "<p><b>Documentation</b>:<a href=\"https://pandas.pydata.org/docs/reference/api/pandas.DataFrame.loc.html\">df.loc()</a></p>"
   ]
  },
  {
   "cell_type": "code",
   "execution_count": null,
   "id": "70d5b287",
   "metadata": {},
   "outputs": [],
   "source": [
    "df = pd.read_csv(\"jamesbond.csv\", index_col=[\"Film\"])\n",
    "df.sort_index(inplace=True)\n",
    "df"
   ]
  },
  {
   "cell_type": "code",
   "execution_count": null,
   "id": "cd31f0b8",
   "metadata": {},
   "outputs": [],
   "source": [
    "# Accessing single row data and returns a Series object\n",
    "df.loc[\"A View to a Kill\"]"
   ]
  },
  {
   "cell_type": "code",
   "execution_count": null,
   "id": "f6539968",
   "metadata": {},
   "outputs": [],
   "source": [
    "# Accessing multiple rows and returns a DataFrame object\n",
    "# NOTE: If we have duplicate index's, then all of them fetched\n",
    "df.loc[[\"Casino Royale\", \"Diamonds Are Forever\"]]"
   ]
  },
  {
   "cell_type": "code",
   "execution_count": null,
   "id": "e3b8cd56",
   "metadata": {},
   "outputs": [],
   "source": [
    "# Fetching column data of certain rows\n",
    "df.loc[\"Casino Royale\":\"Goldfinger\", \"Actor\"]"
   ]
  },
  {
   "cell_type": "code",
   "execution_count": null,
   "id": "ca226871",
   "metadata": {},
   "outputs": [],
   "source": [
    "# loc also supports the slicing, unlike python here both slicing values are inclusive\n",
    "df.loc[\"Casino Royale\":\"Goldfinger\":2]"
   ]
  },
  {
   "cell_type": "code",
   "execution_count": null,
   "id": "24cf91ff",
   "metadata": {},
   "outputs": [],
   "source": [
    "# It wouldn't support numerical index value if you index is String\n",
    "df.loc[0]"
   ]
  },
  {
   "cell_type": "markdown",
   "id": "848cc0e6",
   "metadata": {},
   "source": [
    "### Accessing rows by using .iloc() method\n",
    "<p><b>Usage</b>:Purely integer-location based indexing for selection by position.</p>\n",
    "<p><b>Documentation</b>:<a href=\"https://pandas.pydata.org/docs/reference/api/pandas.DataFrame.iloc.html#pandas.DataFrame.iloc\">df.iloc()</a></p>"
   ]
  },
  {
   "cell_type": "code",
   "execution_count": null,
   "id": "eeb5c6ce",
   "metadata": {},
   "outputs": [],
   "source": [
    "movies = pd.read_csv(\"jamesbond.csv\")\n",
    "movies.iloc[10]"
   ]
  },
  {
   "cell_type": "code",
   "execution_count": null,
   "id": "f94b220f",
   "metadata": {},
   "outputs": [],
   "source": [
    "movies.iloc[1:10:2]"
   ]
  },
  {
   "cell_type": "code",
   "execution_count": null,
   "id": "54d4d9f2",
   "metadata": {},
   "outputs": [],
   "source": [
    "# Fetching specific rows\n",
    "movies.iloc[[1, 10, 2, 4]]"
   ]
  },
  {
   "cell_type": "code",
   "execution_count": null,
   "id": "44344fdb",
   "metadata": {},
   "outputs": [],
   "source": [
    "movies.set_index(\"Film\", inplace=True)"
   ]
  },
  {
   "cell_type": "code",
   "execution_count": null,
   "id": "d3a7b6da",
   "metadata": {},
   "outputs": [],
   "source": [
    "movies.sort_index(inplace=True)\n",
    "movies.head()"
   ]
  },
  {
   "cell_type": "code",
   "execution_count": null,
   "id": "44bcbf4d",
   "metadata": {},
   "outputs": [],
   "source": [
    "# TypeError: Cannot index by location index with a non-integer key\n",
    "# movies.iloc[\"A View to a Kill\"]"
   ]
  },
  {
   "cell_type": "code",
   "execution_count": null,
   "id": "156e5df1",
   "metadata": {},
   "outputs": [],
   "source": [
    "# But still we can use integer index\n",
    "movies.iloc[1]"
   ]
  },
  {
   "cell_type": "code",
   "execution_count": null,
   "id": "f0bbe6d5",
   "metadata": {},
   "outputs": [],
   "source": [
    "movies.iloc[1: 4]"
   ]
  },
  {
   "cell_type": "markdown",
   "id": "cdfefa90",
   "metadata": {},
   "source": [
    "### Passing Second argument to loc() and iloc()\n",
    "\n",
    "Second column is about which column we wanted to access"
   ]
  },
  {
   "cell_type": "code",
   "execution_count": null,
   "id": "c5ca02cd",
   "metadata": {},
   "outputs": [],
   "source": [
    "bond = pd.read_csv(\"jamesbond.csv\", index_col=\"Film\")\n",
    "bond.sort_index(inplace=True)\n",
    "bond.head()"
   ]
  },
  {
   "cell_type": "code",
   "execution_count": null,
   "id": "0515c353",
   "metadata": {},
   "outputs": [],
   "source": [
    "bond.loc[\"A View to a Kill\", [\"Actor\", \"Director\"]]"
   ]
  },
  {
   "cell_type": "code",
   "execution_count": null,
   "id": "3c03bda0",
   "metadata": {},
   "outputs": [],
   "source": [
    "bond.loc[\"A View to a Kill\": \"Die Another Day\", [\"Actor\", \"Director\"]]"
   ]
  },
  {
   "cell_type": "code",
   "execution_count": null,
   "id": "2dfd4428",
   "metadata": {},
   "outputs": [],
   "source": [
    "bond.loc[\"A View to a Kill\": \"Die Another Day\", \"Director\":]"
   ]
  },
  {
   "cell_type": "code",
   "execution_count": null,
   "id": "5f2ce4a7",
   "metadata": {},
   "outputs": [],
   "source": [
    "# We can perform all the activities that we had performed loc the only difference here we need to pass numerical value\n",
    "bond.iloc[1, [0, 1]]"
   ]
  },
  {
   "cell_type": "code",
   "execution_count": null,
   "id": "72acb544",
   "metadata": {},
   "outputs": [],
   "source": [
    "bond.iloc[[2, 10], 0:3]"
   ]
  },
  {
   "cell_type": "code",
   "execution_count": null,
   "id": "2bae2086",
   "metadata": {},
   "outputs": [],
   "source": [
    "bond.iloc[[2, 10], 0:3] = [2020, \"Madhu\", \"Raja Mouli\"]\n",
    "bond.head()"
   ]
  },
  {
   "cell_type": "markdown",
   "id": "db2c7388",
   "metadata": {},
   "source": [
    "### Assinging new value to a cell"
   ]
  },
  {
   "cell_type": "code",
   "execution_count": null,
   "id": "25e9458a",
   "metadata": {},
   "outputs": [],
   "source": [
    "df = pd.read_csv(\"jamesbond.csv\", index_col=\"Film\")\n",
    "df.head()"
   ]
  },
  {
   "cell_type": "code",
   "execution_count": null,
   "id": "cb97234d",
   "metadata": {},
   "outputs": [],
   "source": [
    "df.loc[\"From Russia with Love\", \"Actor\"] = \"Mr.Sean Connery\""
   ]
  },
  {
   "cell_type": "code",
   "execution_count": null,
   "id": "e5572574",
   "metadata": {},
   "outputs": [],
   "source": [
    "df.head(3)"
   ]
  },
  {
   "cell_type": "code",
   "execution_count": null,
   "id": "e207f4e9",
   "metadata": {},
   "outputs": [],
   "source": [
    "df.loc[\"From Russia with Love\", [\"Box Office\", \"Budget\",\"Bond Actor Salary\"]]=0"
   ]
  },
  {
   "cell_type": "code",
   "execution_count": null,
   "id": "fd40c6cf",
   "metadata": {},
   "outputs": [],
   "source": [
    "df.head(2)"
   ]
  },
  {
   "cell_type": "code",
   "execution_count": null,
   "id": "9e82c806",
   "metadata": {},
   "outputs": [],
   "source": [
    "df.loc[\"From Russia with Love\", [\"Box Office\", \"Budget\",\"Bond Actor Salary\"]]=[20, 30, 40]"
   ]
  },
  {
   "cell_type": "code",
   "execution_count": null,
   "id": "997963dc",
   "metadata": {},
   "outputs": [],
   "source": [
    "df.head(3)"
   ]
  },
  {
   "cell_type": "code",
   "execution_count": null,
   "id": "6f841ec6",
   "metadata": {},
   "outputs": [],
   "source": [
    "# We can also check some conditions\n",
    "df.loc[df[\"Actor\"] == \"Roger Moore\", \"Actor\"] = \"Madhu\""
   ]
  },
  {
   "cell_type": "code",
   "execution_count": null,
   "id": "b5973986",
   "metadata": {},
   "outputs": [],
   "source": [
    "df"
   ]
  },
  {
   "cell_type": "markdown",
   "id": "1b5f1b9d",
   "metadata": {},
   "source": [
    "### Renaming row and column labels"
   ]
  },
  {
   "cell_type": "code",
   "execution_count": null,
   "id": "15bff7f9",
   "metadata": {},
   "outputs": [],
   "source": [
    "movies = pd.read_csv(\"jamesbond.csv\", index_col=\"Film\")\n",
    "movies.head()"
   ]
  },
  {
   "cell_type": "code",
   "execution_count": null,
   "id": "5c594105",
   "metadata": {},
   "outputs": [],
   "source": [
    "# To rename the row label\n",
    "movies.rename(mapper={\"Dr. No\":\"Dr No\", \"From Russia with Love\": \"Love the Way\"})\n",
    "# We get the same result by doing it below ways\n",
    "# movies.rename(mapper={\"Dr. No\":\"Dr No\", \"From Russia with Love\": \"Love the Way\"}, axis=0)\n",
    "# movies.rename(mapper={\"Dr. No\":\"Dr No\", \"From Russia with Love\": \"Love the Way\"}, axis=\"rows\")\n",
    "# movies.rename(mapper={\"Dr. No\":\"Dr No\", \"From Russia with Love\": \"Love the Way\"}, axis=\"index\")"
   ]
  },
  {
   "cell_type": "code",
   "execution_count": null,
   "id": "a1a26bd6",
   "metadata": {},
   "outputs": [],
   "source": [
    "# To rename the rows\n",
    "# movies.rename(mapper={\"Year\":\"Release Year\", \"Box Office\": \"Grass\"}, axis=1)\n",
    "# Even it works if you like below\n",
    "movies.rename(mapper={\"Year\":\"Release Year\", \"Box Office\": \"Grass\"}, axis=\"columns\")"
   ]
  },
  {
   "cell_type": "code",
   "execution_count": null,
   "id": "7e87c4f5",
   "metadata": {},
   "outputs": [],
   "source": [
    "# Anthor way to renam the columns\n",
    "movies.columns = ['A', 'B', 'Director', 'Box Office', 'Budget', 'F']"
   ]
  },
  {
   "cell_type": "code",
   "execution_count": null,
   "id": "2903d8e6",
   "metadata": {},
   "outputs": [],
   "source": [
    "movies.tail(3)"
   ]
  },
  {
   "cell_type": "markdown",
   "id": "62dabde8",
   "metadata": {},
   "source": [
    "### Deleting rows and columns"
   ]
  },
  {
   "cell_type": "code",
   "execution_count": null,
   "id": "4cc21f87",
   "metadata": {},
   "outputs": [],
   "source": [
    "movies = pd.read_csv(\"jamesbond.csv\", index_col = \"Film\")\n",
    "movies.sort_index(inplace=True)\n",
    "movies.head()"
   ]
  },
  {
   "cell_type": "code",
   "execution_count": null,
   "id": "0e43cd76",
   "metadata": {},
   "outputs": [],
   "source": [
    "# drop method\n",
    "# By default it looks for label in the index/row\n",
    "# If label repeated, then also those values also will be deleted\n",
    "movies.drop(\"Casino Royale\")"
   ]
  },
  {
   "cell_type": "code",
   "execution_count": null,
   "id": "f9bcdd05",
   "metadata": {},
   "outputs": [],
   "source": [
    "# To drop multiple rows\n",
    "movies.drop([\"Die Another Day\", \"Diamonds Are Forever\"])"
   ]
  },
  {
   "cell_type": "code",
   "execution_count": null,
   "id": "17ff1e49",
   "metadata": {},
   "outputs": [],
   "source": [
    "# To drop columns, we need to pass index\n",
    "movies.drop(labels=\"Budget\", axis=1)\n",
    "# To remove multiple columns\n",
    "movies.drop(labels=[\"Budget\", \"Actor\"], axis=1)"
   ]
  },
  {
   "cell_type": "code",
   "execution_count": null,
   "id": "f8e61db2",
   "metadata": {},
   "outputs": [],
   "source": [
    "# Label of column to be popped, it will return remove items in the form of Series\n",
    "budget = movies.pop(\"Budget\")\n",
    "budget"
   ]
  },
  {
   "cell_type": "code",
   "execution_count": null,
   "id": "8acbaba4",
   "metadata": {},
   "outputs": [],
   "source": [
    "# We can directly use del method\n",
    "del movies[\"Year\"]"
   ]
  },
  {
   "cell_type": "code",
   "execution_count": null,
   "id": "3d7f1e62",
   "metadata": {},
   "outputs": [],
   "source": [
    "movies.head()"
   ]
  },
  {
   "cell_type": "markdown",
   "id": "d1375e88",
   "metadata": {},
   "source": [
    "### The df.sample() method\n",
    "It will return some sample data from dataframe"
   ]
  },
  {
   "cell_type": "code",
   "execution_count": null,
   "id": "c0a50c9c",
   "metadata": {},
   "outputs": [],
   "source": [
    "movies = pd.read_csv(\"jamesbond.csv\")\n",
    "movies"
   ]
  },
  {
   "cell_type": "code",
   "execution_count": null,
   "id": "f2c141ba",
   "metadata": {},
   "outputs": [],
   "source": [
    "# By default it will return one row\n",
    "movies.sample()"
   ]
  },
  {
   "cell_type": "code",
   "execution_count": null,
   "id": "ee307b8f",
   "metadata": {},
   "outputs": [],
   "source": [
    "# We can also pass number of rows\n",
    "movies.sample(n=3)"
   ]
  },
  {
   "cell_type": "code",
   "execution_count": null,
   "id": "fa1002db",
   "metadata": {},
   "outputs": [],
   "source": [
    "# We can als pass percentage\n",
    "movies.sample(frac=.40)"
   ]
  },
  {
   "cell_type": "code",
   "execution_count": null,
   "id": "e96356b9",
   "metadata": {},
   "outputs": [],
   "source": [
    "# We can also pass axis\n",
    "movies.sample(n=3, axis=\"columns\")"
   ]
  },
  {
   "cell_type": "markdown",
   "id": "083d69f9",
   "metadata": {},
   "source": [
    "### The .nlargest() and .nsmallest() methods"
   ]
  },
  {
   "cell_type": "code",
   "execution_count": null,
   "id": "280012a3",
   "metadata": {},
   "outputs": [],
   "source": [
    "df = pd.read_csv(\"jamesbond.csv\")\n",
    "df.head()"
   ]
  },
  {
   "cell_type": "code",
   "execution_count": null,
   "id": "daeb3946",
   "metadata": {},
   "outputs": [],
   "source": [
    "# To get largest 3 values we have something like below\n",
    "df.sort_values(\"Box Office\", ascending = False).head(3)"
   ]
  },
  {
   "cell_type": "code",
   "execution_count": null,
   "id": "bb862a85",
   "metadata": {},
   "outputs": [],
   "source": [
    "# We can do the same thing by doing like below\n",
    "df.nlargest(3, columns= \"Box Office\")"
   ]
  },
  {
   "cell_type": "code",
   "execution_count": null,
   "id": "baff8c4d",
   "metadata": {},
   "outputs": [],
   "source": [
    "# Similarly, we can also fetch last 3 rows\n",
    "df.nsmallest(3, columns=\"Box Office\")"
   ]
  },
  {
   "cell_type": "code",
   "execution_count": null,
   "id": "ffd3814b",
   "metadata": {},
   "outputs": [],
   "source": [
    "# We can also perform the same on Series. Here we no need to provide columns parameter\n",
    "df[\"Box Office\"].nlargest(4)\n",
    "df[\"Box Office\"].nsmallest(4)"
   ]
  },
  {
   "cell_type": "markdown",
   "id": "f3d21254",
   "metadata": {},
   "source": [
    "### .where() method\n",
    "\n",
    ".where() method is used to filter the data, There .where() return a new DataFrame by replacing all non matched row with NaN"
   ]
  },
  {
   "cell_type": "code",
   "execution_count": null,
   "id": "f4f172de",
   "metadata": {},
   "outputs": [],
   "source": [
    "bond = pd.read_csv(\"Jamesbond.csv\")\n",
    "bond.head(3)"
   ]
  },
  {
   "cell_type": "code",
   "execution_count": null,
   "id": "436cecdb",
   "metadata": {},
   "outputs": [],
   "source": [
    "# We usually do flitering like below\n",
    "condition = bond[\"Director\"] == \"Terence Young\"\n",
    "bond[condition]"
   ]
  },
  {
   "cell_type": "code",
   "execution_count": null,
   "id": "d0f7add4",
   "metadata": {},
   "outputs": [],
   "source": [
    "# We can do same with .where() method\n",
    "# We can try all filtering option in where method like .where(condition1 & conditon2) etc..,\n",
    "bond.where(condition)"
   ]
  },
  {
   "cell_type": "markdown",
   "id": "db45ac8e",
   "metadata": {},
   "source": [
    "### .query() method"
   ]
  },
  {
   "cell_type": "code",
   "execution_count": null,
   "id": "268fe2cc",
   "metadata": {},
   "outputs": [],
   "source": [
    "df = pd.read_csv(\"jamesbond.csv\")\n",
    "df.head()"
   ]
  },
  {
   "cell_type": "code",
   "execution_count": null,
   "id": "162096a1",
   "metadata": {},
   "outputs": [],
   "source": [
    "df.query(\"Year > 2010\")"
   ]
  },
  {
   "cell_type": "code",
   "execution_count": null,
   "id": "c28e7dab",
   "metadata": {},
   "outputs": [],
   "source": [
    "# It wouldn't work if column has spaces\n",
    "# df.query(\"Bond Actor Salary > 0.3\")"
   ]
  },
  {
   "cell_type": "code",
   "execution_count": null,
   "id": "ec4d3cd3",
   "metadata": {},
   "outputs": [],
   "source": [
    "# So, we replace all spaces with _\n",
    "df.columns = [x.replace(\" \", \"_\") for x in df.columns]"
   ]
  },
  {
   "cell_type": "code",
   "execution_count": null,
   "id": "7336b674",
   "metadata": {},
   "outputs": [],
   "source": [
    "df.query(\"Bond_Actor_Salary > 9\")"
   ]
  },
  {
   "cell_type": "code",
   "execution_count": null,
   "id": "652349c4",
   "metadata": {},
   "outputs": [],
   "source": [
    "df.query(\"Actor == 'Sean Connery' and Director == 'Terence Young'\")"
   ]
  },
  {
   "cell_type": "code",
   "execution_count": null,
   "id": "98560f75",
   "metadata": {},
   "outputs": [],
   "source": [
    "df.query(\"Actor in ['Pierce Brosnan', 'Daniel Craig']\")"
   ]
  },
  {
   "cell_type": "markdown",
   "id": "f93a5c44",
   "metadata": {},
   "source": [
    "### .apply() method"
   ]
  },
  {
   "cell_type": "code",
   "execution_count": null,
   "id": "3a9bee4f",
   "metadata": {},
   "outputs": [],
   "source": [
    "movies = pd.read_csv(\"jamesbond.csv\")\n",
    "movies.head()"
   ]
  },
  {
   "cell_type": "code",
   "execution_count": null,
   "id": "6abef30c",
   "metadata": {},
   "outputs": [],
   "source": [
    "# We will decide budget\n",
    "# if it n < 20 --> low, if n <= 40 --> Medium, if n>40  --> hig\n",
    "def budget_str(number):\n",
    "    if number < 20:\n",
    "        return \"Low\"\n",
    "    elif number <= 40:\n",
    "        return \"Medium\"\n",
    "    elif number > 40:\n",
    "        return \"High\"\n",
    "    else:\n",
    "        return \"Nan\""
   ]
  },
  {
   "cell_type": "code",
   "execution_count": null,
   "id": "5207185c",
   "metadata": {},
   "outputs": [],
   "source": [
    "movies[\"Budget\"] = movies[\"Budget\"].apply(budget_str)\n",
    "movies"
   ]
  },
  {
   "cell_type": "markdown",
   "id": "70ba71df",
   "metadata": {},
   "source": [
    "### We use .apply() method row wise"
   ]
  },
  {
   "cell_type": "code",
   "execution_count": null,
   "id": "a6e8fba5",
   "metadata": {},
   "outputs": [],
   "source": [
    "df = pd.read_csv(\"jamesbond.csv\")\n",
    "df.set_index(\"Film\", inplace=True)\n",
    "df.info()"
   ]
  },
  {
   "cell_type": "code",
   "execution_count": null,
   "id": "df369c2a",
   "metadata": {},
   "outputs": [],
   "source": [
    "# Now we apply these row wise\n",
    "def rank(row):\n",
    "    actor = row[1]\n",
    "    box_office = row[3]\n",
    "    if actor == \"Sean Connery\" and box_office > 500:\n",
    "        return \"Amazing\"\n",
    "    elif 300 <= box_office:\n",
    "        return \"Good\"\n",
    "    else:\n",
    "        return \"Flop\""
   ]
  },
  {
   "cell_type": "code",
   "execution_count": null,
   "id": "b23b4f2d",
   "metadata": {},
   "outputs": [],
   "source": [
    "df['rank'] = df.apply(rank, axis=1)"
   ]
  },
  {
   "cell_type": "code",
   "execution_count": null,
   "id": "8a31dec6",
   "metadata": {},
   "outputs": [],
   "source": [
    "df"
   ]
  },
  {
   "cell_type": "markdown",
   "id": "f095383f",
   "metadata": {},
   "source": [
    "### copy() method"
   ]
  },
  {
   "cell_type": "code",
   "execution_count": null,
   "id": "73a71bb5",
   "metadata": {},
   "outputs": [],
   "source": [
    "movies = pd.read_csv(\"jamesbond.csv\")\n",
    "movies.head()"
   ]
  },
  {
   "cell_type": "code",
   "execution_count": null,
   "id": "1582874f",
   "metadata": {},
   "outputs": [],
   "source": [
    "# Just like python, it will modify main object also if you use asignment operator\n",
    "director = movies[\"Director\"]\n",
    "director[1] = \"Madhu\"\n",
    "movies"
   ]
  },
  {
   "cell_type": "code",
   "execution_count": null,
   "id": "ddf0150c",
   "metadata": {},
   "outputs": [],
   "source": [
    "# To avoid these we can use copy() method\n",
    "year = movies[\"year\"].copy()"
   ]
  },
  {
   "cell_type": "markdown",
   "id": "36e94735",
   "metadata": {},
   "source": [
    "### Synopsis"
   ]
  },
  {
   "cell_type": "markdown",
   "id": "faf5db86",
   "metadata": {},
   "source": [
    "<table style=\"margin-left: 0;\">\n",
    "  <tr style=\"text-align:center;\">\n",
    "    <th>Implementation</th>\n",
    "    <th>Description</th>\n",
    "  </tr>\n",
    "  <tr>\n",
    "      <td>DataFrame.set_index(keys, drop=True, append=False, inplace=False, verify_integrity=False)</td>\n",
    "      <td>It will set a column as an index</td>\n",
    "  </tr>\n",
    "  <tr>\n",
    "      <td>DataFrame.reset_index(level=None, drop=False, inplace=False, col_level=0, col_fill='')</td>\n",
    "      <td>It will reset the index</td>\n",
    "  </tr>\n",
    "  <tr>\n",
    "      <td>DataFrame.loc['label']</td>\n",
    "      <td>Access a group of rows and columns by label(s) or a boolean array, if you do a little hardwork we can also assign values</td>\n",
    "  </tr>\n",
    "  <tr>\n",
    "      <td>DataFrame.iloc['label']</td>\n",
    "      <td>Purely integer-location based indexing for selection by position</td>\n",
    "  </tr>\n",
    "  <tr>\n",
    "      <td>DataFrame.rename(mapper=None, index=None, columns=None, axis=None, copy=True, inplace=False, level=None, errors='ignore')</td>\n",
    "      <td>To rename column and rows labels</td>\n",
    "  </tr>\n",
    "  <tr>\n",
    "      <td>DataFrame.rename(mapper=None, index=None, columns=None, axis=None, copy=True, inplace=False, level=None, errors='ignore')</td>\n",
    "      <td>To rename column and rows labels</td>\n",
    "  </tr>\n",
    "  <tr>\n",
    "      <td>DataFrame.drop(labels=None, axis=0, index=None, columns=None, level=None, inplace=False, errors='raise')</td>\n",
    "      <td>To drop column and rows labels</td>\n",
    "  </tr>\n",
    "  <tr>\n",
    "      <td>DataFrame.sample(n=None, frac=None, replace=False, weights=None, random_state=None, axis=None, ignore_index=False)</td>\n",
    "      <td>To fetch sample data from rows and columns</td>\n",
    "  </tr>\n",
    "  <tr>\n",
    "      <td>DataFrame.nlargest() <br> DataFrame.nsmallest()</td>\n",
    "      <td>To fetch n largest and n smallest rows respectively</td>\n",
    "  </tr>\n",
    "  <tr>\n",
    "      <td>DataFrame.where()</td>\n",
    "      <td>.where() method is used to filter the data, There .where() return a new DataFrame by replacing all non matched row with NaN</td>\n",
    "  </tr>\n",
    "  <tr>\n",
    "      <td>DataFrame.query()</td>\n",
    "      <td>It takes query in the form of string to fetch data from DataFrame</td>\n",
    "  </tr>\n",
    "  <tr>\n",
    "      <td>DataFrame.apply()</td>\n",
    "      <td>To apply some kind of functionality on rows and columns, we can also use it on Series object</td>\n",
    "  </tr>\n",
    "  <tr>\n",
    "      <td>DataFrame.copy()</td>\n",
    "      <td>Similar to python copy() method</td>\n",
    "  </tr>\n",
    "</table>"
   ]
  },
  {
   "cell_type": "code",
   "execution_count": null,
   "id": "a996e276",
   "metadata": {},
   "outputs": [],
   "source": []
  }
 ],
 "metadata": {
  "kernelspec": {
   "display_name": "Python 3 (ipykernel)",
   "language": "python",
   "name": "python3"
  },
  "language_info": {
   "codemirror_mode": {
    "name": "ipython",
    "version": 3
   },
   "file_extension": ".py",
   "mimetype": "text/x-python",
   "name": "python",
   "nbconvert_exporter": "python",
   "pygments_lexer": "ipython3",
   "version": "3.10.2"
  }
 },
 "nbformat": 4,
 "nbformat_minor": 5
}
