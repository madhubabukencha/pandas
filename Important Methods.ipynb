{
 "cells": [
  {
   "cell_type": "markdown",
   "id": "6a80e519",
   "metadata": {},
   "source": [
    "<center><font size=6 color=\"#00416d\">Commonly used Pandas Methods and Attributes</font></center>"
   ]
  },
  {
   "cell_type": "markdown",
   "id": "621c3e23",
   "metadata": {},
   "source": [
    "<font size=5 color=\"color:#290001;\">From 1_pandas_basics:</font> <br>"
   ]
  },
  {
   "cell_type": "markdown",
   "id": "6a7e384e",
   "metadata": {},
   "source": [
    "* df means is DataFrame<br>\n",
    "<table style=\"font-family: arial, sans-serif; margin-left: 0;\">\n",
    "    <tr>\n",
    "        <th>Method</th>\n",
    "        <th>Description</th>\n",
    "    </tr>\n",
    "    <tr>\n",
    "        <td>df.head(n)</td>\n",
    "        <td>It will show top n rows from DataFrame</td>\n",
    "    </tr>\n",
    "    <tr>\n",
    "        <td>df.tail(n)</td>\n",
    "        <td>It will show last n rows from DataFrame</td>\n",
    "    </tr>\n",
    "    <tr>\n",
    "        <td>df.shape</td>\n",
    "        <td>Shows the DataFrame shape in (rows, columns) format</td>\n",
    "    </tr>\n",
    "    <tr>\n",
    "        <td>df.size</td>\n",
    "        <td>Returns the size of DataFrame (rows x columns)</td>\n",
    "    </tr>\n",
    "    <tr>\n",
    "        <td>df.columns</td>\n",
    "        <td>Returns a list with columns names</td>\n",
    "    </tr>\n",
    "    <tr>\n",
    "        <td>df.sort_values(by=column_name or<br>list_of_coulmns)</td>\n",
    "        <td>Sort the data Frame based on the parameter passed to the sort_values method</td>\n",
    "    </tr>\n",
    "    <tr>\n",
    "        <td>df.sort_index()</td>\n",
    "        <td>Sort the index</td>\n",
    "    </tr>\n",
    "    <tr>\n",
    "        <td>df[[column names]]</td>\n",
    "        <td>To access columns</td>\n",
    "    </tr>\n",
    "    \n",
    "</table>"
   ]
  },
  {
   "cell_type": "markdown",
   "id": "627b66c8",
   "metadata": {},
   "source": [
    "<font size=5 color=\"color:#290001;\">From 1_Series:</font> <br>\n",
    "Assume S means Series object"
   ]
  },
  {
   "cell_type": "markdown",
   "id": "e2c135ba",
   "metadata": {},
   "source": [
    "<table style=\"font-family: arial, sans-serif; margin-left: 0;\">\n",
    "    <tr>\n",
    "        <th>Method</th>\n",
    "        <th>Description</th>\n",
    "    </tr>\n",
    "    <tr>\n",
    "        <td>pd.Series(list/dict/tuple of element)</td>\n",
    "        <td>To create a Series object</td>\n",
    "    </tr>\n",
    "    <tr>\n",
    "        <td>S.values</td>\n",
    "        <td>To get values from the series object</td>\n",
    "    </tr>\n",
    "    <tr>\n",
    "        <td>S.index</td>\n",
    "        <td>It will a list of index values/a range from 0 to N</td>\n",
    "    </tr>\n",
    "    <tr>\n",
    "        <td>S.dtype</td>\n",
    "        <td>It will return a type of Series object</td>\n",
    "    </tr>\n",
    "    <tr>\n",
    "        <td>pandas.read_csv(\"pokemon.csv\", usecols=[\"column_name\"], squeeze=True)</td>\n",
    "        <td> It will create a Series object with column name</td>\n",
    "    </tr>\n",
    "    <tr>\n",
    "        <td>S.is_unique</td>\n",
    "        <td>It will check all values in series object are unique or not</td>\n",
    "    </tr>\n",
    "    <tr>\n",
    "        <td>S/df.ndim</td>\n",
    "        <td>I will return dimention of both Series and DataFrame objects</td>\n",
    "    </tr>\n",
    "    <tr>\n",
    "        <td>S.get(string/list_of_indexes)</td>\n",
    "        <td>To get values of specified index</td>\n",
    "    </tr>\n",
    "    <tr>\n",
    "        <td>S.max() and S.min()</td>\n",
    "        <td>To get maximum and minimum values from Series Object</td>\n",
    "    </tr>\n",
    "    <tr>\n",
    "        <td>S.idxmax() and S.idxmin()</td>\n",
    "        <td>To get maximum and minimum index values from Series Object</td>\n",
    "    </tr>\n",
    "    <tr>\n",
    "        <td>S.value_counts()</td>\n",
    "        <td>It will count each value how many times repeated </td>\n",
    "    </tr>\n",
    "    <tr>\n",
    "        <td>S.count()</td>\n",
    "        <td>It will count how many values presented in series object</td>\n",
    "    </tr>\n",
    "    <tr>\n",
    "        <td>S.apply(function)</td>\n",
    "        <td>It will apply a function on each values of the Series</td>\n",
    "    </tr>\n",
    "    <tr>\n",
    "        <td>S.map(S)</td>\n",
    "        <td>It will map one series object to another series object if it has same column</td>\n",
    "    </tr>\n",
    "</table>"
   ]
  },
  {
   "cell_type": "code",
   "execution_count": null,
   "id": "fcca6d17",
   "metadata": {},
   "outputs": [],
   "source": []
  },
  {
   "cell_type": "code",
   "execution_count": null,
   "id": "66289f78",
   "metadata": {},
   "outputs": [],
   "source": []
  }
 ],
 "metadata": {
  "kernelspec": {
   "display_name": "Python 3",
   "language": "python",
   "name": "python3"
  },
  "language_info": {
   "codemirror_mode": {
    "name": "ipython",
    "version": 3
   },
   "file_extension": ".py",
   "mimetype": "text/x-python",
   "name": "python",
   "nbconvert_exporter": "python",
   "pygments_lexer": "ipython3",
   "version": "3.9.5"
  }
 },
 "nbformat": 4,
 "nbformat_minor": 5
}
